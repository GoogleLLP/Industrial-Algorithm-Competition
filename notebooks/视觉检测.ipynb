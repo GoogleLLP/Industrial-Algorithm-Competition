{
 "cells": [
  {
   "cell_type": "markdown",
   "metadata": {},
   "source": [
    "<h3>准备</h3>"
   ]
  },
  {
   "cell_type": "markdown",
   "metadata": {},
   "source": [
    "<h4>导入包</h4>"
   ]
  },
  {
   "cell_type": "code",
   "execution_count": 46,
   "metadata": {
    "ExecuteTime": {
     "end_time": "2021-10-18T07:24:46.292331Z",
     "start_time": "2021-10-18T07:24:46.287361Z"
    }
   },
   "outputs": [],
   "source": [
    "import os\n",
    "import json\n",
    "import requests\n",
    "from time import localtime, strftime\n",
    "from typing import Optional, Union\n",
    "from PIL.Image import Image, open, fromarray\n",
    "from PIL.ImageFilter import FIND_EDGES\n",
    "import numpy as np\n",
    "import tensorflow as tf\n",
    "from tensorflow.keras.models import Sequential, save_model, load_model\n",
    "from tensorflow.keras.layers import Dense, Conv2D, MaxPool2D, Dropout, LeakyReLU, Flatten\n",
    "from tensorflow.keras.losses import BinaryCrossentropy\n",
    "from tensorflow.keras.optimizers import Adam, RMSprop, SGD\n",
    "from tensorflow.keras.callbacks import History, Callback, TensorBoard, EarlyStopping\n",
    "from tensorflow.keras.preprocessing import image_dataset_from_directory\n",
    "from tensorflow.keras.preprocessing.image import ImageDataGenerator\n",
    "from tensorflow.keras.backend import clear_session\n",
    "from sklearn.metrics import classification_report"
   ]
  },
  {
   "cell_type": "markdown",
   "metadata": {},
   "source": [
    "<h4>设置tensorflow</h4>"
   ]
  },
  {
   "cell_type": "code",
   "execution_count": 2,
   "metadata": {
    "ExecuteTime": {
     "end_time": "2021-10-18T07:04:12.185999Z",
     "start_time": "2021-10-18T07:04:12.010001Z"
    }
   },
   "outputs": [],
   "source": [
    "for gpu in tf.config.experimental.list_physical_devices(\"GPU\"):\n",
    "    tf.config.experimental.set_memory_growth(gpu, True)"
   ]
  },
  {
   "cell_type": "markdown",
   "metadata": {},
   "source": [
    "<h3>准备数据</h3>"
   ]
  },
  {
   "cell_type": "code",
   "execution_count": 3,
   "metadata": {
    "ExecuteTime": {
     "end_time": "2021-10-18T07:05:22.878263Z",
     "start_time": "2021-10-18T07:05:22.874261Z"
    }
   },
   "outputs": [],
   "source": [
    "train_dir = os.path.join(\"../data/pic/\", \"train\")\n",
    "test_dir = os.path.join(\"../data/pic/\", \"test\")"
   ]
  },
  {
   "cell_type": "markdown",
   "metadata": {},
   "source": [
    "<h4>边缘检测</h4>"
   ]
  },
  {
   "cell_type": "code",
   "execution_count": 4,
   "metadata": {
    "ExecuteTime": {
     "end_time": "2021-10-18T07:05:26.591050Z",
     "start_time": "2021-10-18T07:05:26.586058Z"
    }
   },
   "outputs": [],
   "source": [
    "def find_edges(img: Union[np.ndarray, Image]) -> np.ndarray:\n",
    "    \"\"\"\n",
    "    图片边缘检测\\n\n",
    "    :param img: 一张图片\n",
    "    :return: 边缘检测后的图片\n",
    "    \"\"\"\n",
    "    if isinstance(img, np.ndarray):\n",
    "        image: Image = fromarray(img.astype(np.uint8))\n",
    "    else:\n",
    "        image: Image = img\n",
    "    return np.array(image.filter(FIND_EDGES)).astype(\"float\")"
   ]
  },
  {
   "cell_type": "markdown",
   "metadata": {},
   "source": [
    "<h4>数据预处理</h4>"
   ]
  },
  {
   "cell_type": "code",
   "execution_count": 19,
   "metadata": {
    "ExecuteTime": {
     "end_time": "2021-10-18T05:55:31.826783Z",
     "start_time": "2021-10-18T05:55:31.821810Z"
    }
   },
   "outputs": [],
   "source": [
    "train_gen = ImageDataGenerator(\n",
    "    rescale=1.0 / 255,\n",
    "    horizontal_flip=True,\n",
    "    vertical_flip=True,\n",
    "    rotation_range=360,\n",
    "    width_shift_range=0.03,\n",
    "    height_shift_range=0.03,\n",
    "    fill_mode='nearest',\n",
    "    preprocessing_function=lambda x: find_edges(x),\n",
    "    validation_split=0.2\n",
    ")\n",
    "val_gen = ImageDataGenerator(\n",
    "    rescale=1.0 / 255,\n",
    "    preprocessing_function=lambda x: find_edges(x),\n",
    "    validation_split=0.2\n",
    ")"
   ]
  },
  {
   "cell_type": "code",
   "execution_count": 21,
   "metadata": {
    "ExecuteTime": {
     "end_time": "2021-10-18T06:00:14.035365Z",
     "start_time": "2021-10-18T06:00:13.804997Z"
    }
   },
   "outputs": [
    {
     "name": "stdout",
     "output_type": "stream",
     "text": [
      "Found 89 images belonging to 2 classes.\n",
      "Found 21 images belonging to 2 classes.\n"
     ]
    }
   ],
   "source": [
    "train_ds = train_gen.flow_from_directory(\n",
    "    train_dir,\n",
    "    target_size=(160, 160),\n",
    "    color_mode='rgb',\n",
    "    class_mode='binary',\n",
    "    batch_size=32,\n",
    "    shuffle=True,\n",
    "    seed=123,\n",
    "    subset=\"training\"\n",
    ")\n",
    "val_ds = train_gen.flow_from_directory(\n",
    "    train_dir,\n",
    "    target_size=(160, 160),\n",
    "    color_mode='rgb',\n",
    "    class_mode='binary',\n",
    "    batch_size=32,\n",
    "    shuffle=True,\n",
    "    seed=123,\n",
    "    subset=\"validation\"\n",
    ")"
   ]
  },
  {
   "cell_type": "markdown",
   "metadata": {},
   "source": [
    "<h3>搭建模型并训练</h3>"
   ]
  },
  {
   "cell_type": "markdown",
   "metadata": {},
   "source": [
    "<h4>搭建模型</h4>"
   ]
  },
  {
   "cell_type": "code",
   "execution_count": 35,
   "metadata": {
    "ExecuteTime": {
     "end_time": "2021-10-18T06:20:15.922459Z",
     "start_time": "2021-10-18T06:20:15.834469Z"
    }
   },
   "outputs": [
    {
     "name": "stdout",
     "output_type": "stream",
     "text": [
      "Model: \"pic_clf\"\n",
      "_________________________________________________________________\n",
      "Layer (type)                 Output Shape              Param #   \n",
      "=================================================================\n",
      "conv2d1 (Conv2D)             (None, 158, 158, 32)      896       \n",
      "_________________________________________________________________\n",
      "maxpool2d_1 (MaxPooling2D)   (None, 79, 79, 32)        0         \n",
      "_________________________________________________________________\n",
      "conv2d2 (Conv2D)             (None, 77, 77, 64)        18496     \n",
      "_________________________________________________________________\n",
      "maxpool2d_2 (MaxPooling2D)   (None, 38, 38, 64)        0         \n",
      "_________________________________________________________________\n",
      "conv2d3 (Conv2D)             (None, 36, 36, 128)       73856     \n",
      "_________________________________________________________________\n",
      "maxpool2d_3 (MaxPooling2D)   (None, 18, 18, 128)       0         \n",
      "_________________________________________________________________\n",
      "conv2d4 (Conv2D)             (None, 16, 16, 32)        36896     \n",
      "_________________________________________________________________\n",
      "maxpool2d_4 (MaxPooling2D)   (None, 8, 8, 32)          0         \n",
      "_________________________________________________________________\n",
      "conv2d5 (Conv2D)             (None, 6, 6, 16)          4624      \n",
      "_________________________________________________________________\n",
      "maxpool2d_5 (MaxPooling2D)   (None, 3, 3, 16)          0         \n",
      "_________________________________________________________________\n",
      "flatten_6 (Flatten)          (None, 144)               0         \n",
      "_________________________________________________________________\n",
      "dense_6 (Dense)              (None, 16)                2320      \n",
      "_________________________________________________________________\n",
      "dense_7 (Dense)              (None, 1)                 17        \n",
      "=================================================================\n",
      "Total params: 137,105\n",
      "Trainable params: 137,105\n",
      "Non-trainable params: 0\n",
      "_________________________________________________________________\n"
     ]
    }
   ],
   "source": [
    "clear_session()\n",
    "model = Sequential([\n",
    "    Conv2D(filters=32, kernel_size=(3, 3), data_format=\"channels_last\", activation=\"relu\", name=\"conv2d1\", input_shape=(160, 160, 3)),\n",
    "    MaxPool2D(pool_size=(2, 2), name=\"maxpool2d_1\"),\n",
    "    Conv2D(filters=64, kernel_size=(3, 3), data_format=\"channels_last\", activation=\"relu\", name=\"conv2d2\"),\n",
    "    MaxPool2D(pool_size=(2, 2), name=\"maxpool2d_2\"),\n",
    "    Conv2D(filters=128, kernel_size=(3, 3), data_format=\"channels_last\", activation=\"relu\", name=\"conv2d3\"),\n",
    "    MaxPool2D(pool_size=(2, 2), name=\"maxpool2d_3\"),\n",
    "    Conv2D(filters=32, kernel_size=(3, 3), data_format=\"channels_last\", activation=\"relu\", name=\"conv2d4\"),\n",
    "    MaxPool2D(pool_size=(2, 2), name=\"maxpool2d_4\"),\n",
    "    Conv2D(filters=16, kernel_size=(3, 3), data_format=\"channels_last\", activation=\"relu\", name=\"conv2d5\"),\n",
    "    MaxPool2D(pool_size=(2, 2), name=\"maxpool2d_5\"),\n",
    "    Flatten(data_format=\"channels_last\", name=\"flatten_6\"),\n",
    "    Dense(units=16, activation=\"relu\", name=\"dense_6\"),\n",
    "    Dense(units=1, activation=\"sigmoid\", name=\"dense_7\")\n",
    "], name=\"pic_clf\")\n",
    "model.compile(\n",
    "    loss=BinaryCrossentropy(),\n",
    "    optimizer=Adam(learning_rate=1e-4),\n",
    "    metrics=[\"accuracy\"]\n",
    ")\n",
    "model.summary()"
   ]
  },
  {
   "cell_type": "markdown",
   "metadata": {},
   "source": [
    "<h4>模型训练</h4>"
   ]
  },
  {
   "cell_type": "code",
   "execution_count": 36,
   "metadata": {
    "ExecuteTime": {
     "end_time": "2021-10-18T06:21:23.624342Z",
     "start_time": "2021-10-18T06:20:32.090627Z"
    }
   },
   "outputs": [
    {
     "name": "stdout",
     "output_type": "stream",
     "text": [
      "Epoch 1/60\n",
      "3/3 [==============================] - 1s 333ms/step - loss: 0.6786 - accuracy: 0.6404 - val_loss: 0.6466 - val_accuracy: 0.7143\n",
      "Epoch 2/60\n",
      "3/3 [==============================] - 1s 200ms/step - loss: 0.6429 - accuracy: 0.7191 - val_loss: 0.6193 - val_accuracy: 0.7143\n",
      "Epoch 3/60\n",
      "3/3 [==============================] - 1s 201ms/step - loss: 0.6127 - accuracy: 0.7191 - val_loss: 0.6027 - val_accuracy: 0.7143\n",
      "Epoch 4/60\n",
      "3/3 [==============================] - 1s 203ms/step - loss: 0.5953 - accuracy: 0.7191 - val_loss: 0.5891 - val_accuracy: 0.7143\n",
      "Epoch 5/60\n",
      "3/3 [==============================] - 1s 217ms/step - loss: 0.5855 - accuracy: 0.7191 - val_loss: 0.5861 - val_accuracy: 0.7143\n",
      "Epoch 6/60\n",
      "3/3 [==============================] - 1s 233ms/step - loss: 0.5845 - accuracy: 0.7191 - val_loss: 0.5816 - val_accuracy: 0.7143\n",
      "Epoch 7/60\n",
      "3/3 [==============================] - 1s 214ms/step - loss: 0.5804 - accuracy: 0.7191 - val_loss: 0.5854 - val_accuracy: 0.7143\n",
      "Epoch 8/60\n",
      "3/3 [==============================] - 1s 198ms/step - loss: 0.5872 - accuracy: 0.7191 - val_loss: 0.5749 - val_accuracy: 0.7143\n",
      "Epoch 9/60\n",
      "3/3 [==============================] - 1s 204ms/step - loss: 0.5804 - accuracy: 0.7191 - val_loss: 0.5849 - val_accuracy: 0.7143\n",
      "Epoch 10/60\n",
      "3/3 [==============================] - 1s 197ms/step - loss: 0.5785 - accuracy: 0.7191 - val_loss: 0.5779 - val_accuracy: 0.7143\n",
      "Epoch 11/60\n",
      "3/3 [==============================] - 1s 215ms/step - loss: 0.5757 - accuracy: 0.7191 - val_loss: 0.5761 - val_accuracy: 0.7143\n",
      "Epoch 12/60\n",
      "3/3 [==============================] - 1s 203ms/step - loss: 0.5742 - accuracy: 0.7191 - val_loss: 0.5786 - val_accuracy: 0.7143\n",
      "Epoch 13/60\n",
      "3/3 [==============================] - 1s 222ms/step - loss: 0.5747 - accuracy: 0.7191 - val_loss: 0.5818 - val_accuracy: 0.7143\n",
      "Epoch 14/60\n",
      "3/3 [==============================] - 1s 222ms/step - loss: 0.5717 - accuracy: 0.7191 - val_loss: 0.5712 - val_accuracy: 0.7143\n",
      "Epoch 15/60\n",
      "3/3 [==============================] - 1s 197ms/step - loss: 0.5727 - accuracy: 0.7191 - val_loss: 0.5738 - val_accuracy: 0.7143\n",
      "Epoch 16/60\n",
      "3/3 [==============================] - 1s 211ms/step - loss: 0.5716 - accuracy: 0.7191 - val_loss: 0.5719 - val_accuracy: 0.7143\n",
      "Epoch 17/60\n",
      "3/3 [==============================] - 1s 227ms/step - loss: 0.5719 - accuracy: 0.7191 - val_loss: 0.5673 - val_accuracy: 0.7143\n",
      "Epoch 18/60\n",
      "3/3 [==============================] - 1s 197ms/step - loss: 0.5702 - accuracy: 0.7191 - val_loss: 0.5740 - val_accuracy: 0.7143\n",
      "Epoch 19/60\n",
      "3/3 [==============================] - 1s 216ms/step - loss: 0.5629 - accuracy: 0.7191 - val_loss: 0.5718 - val_accuracy: 0.7143\n",
      "Epoch 20/60\n",
      "3/3 [==============================] - 1s 205ms/step - loss: 0.5677 - accuracy: 0.7191 - val_loss: 0.5615 - val_accuracy: 0.7143\n",
      "Epoch 21/60\n",
      "3/3 [==============================] - 1s 216ms/step - loss: 0.5640 - accuracy: 0.7191 - val_loss: 0.5619 - val_accuracy: 0.7143\n",
      "Epoch 22/60\n",
      "3/3 [==============================] - 1s 201ms/step - loss: 0.5695 - accuracy: 0.7191 - val_loss: 0.5586 - val_accuracy: 0.7143\n",
      "Epoch 23/60\n",
      "3/3 [==============================] - 1s 206ms/step - loss: 0.5639 - accuracy: 0.7191 - val_loss: 0.5675 - val_accuracy: 0.7143\n",
      "Epoch 24/60\n",
      "3/3 [==============================] - 1s 201ms/step - loss: 0.5606 - accuracy: 0.7191 - val_loss: 0.5616 - val_accuracy: 0.7143\n",
      "Epoch 25/60\n",
      "3/3 [==============================] - 1s 213ms/step - loss: 0.5637 - accuracy: 0.7191 - val_loss: 0.5571 - val_accuracy: 0.7143\n",
      "Epoch 26/60\n",
      "3/3 [==============================] - 1s 204ms/step - loss: 0.5581 - accuracy: 0.7191 - val_loss: 0.5543 - val_accuracy: 0.7143\n",
      "Epoch 27/60\n",
      "3/3 [==============================] - 1s 207ms/step - loss: 0.5618 - accuracy: 0.7191 - val_loss: 0.5453 - val_accuracy: 0.7143\n",
      "Epoch 28/60\n",
      "3/3 [==============================] - 1s 209ms/step - loss: 0.5594 - accuracy: 0.7191 - val_loss: 0.5550 - val_accuracy: 0.7143\n",
      "Epoch 29/60\n",
      "3/3 [==============================] - 1s 197ms/step - loss: 0.5580 - accuracy: 0.7191 - val_loss: 0.5460 - val_accuracy: 0.7143\n",
      "Epoch 30/60\n",
      "3/3 [==============================] - 1s 195ms/step - loss: 0.5582 - accuracy: 0.7191 - val_loss: 0.5478 - val_accuracy: 0.7143\n",
      "Epoch 31/60\n",
      "3/3 [==============================] - 1s 218ms/step - loss: 0.5538 - accuracy: 0.7191 - val_loss: 0.5486 - val_accuracy: 0.7143\n",
      "Epoch 32/60\n",
      "3/3 [==============================] - 1s 198ms/step - loss: 0.5474 - accuracy: 0.7191 - val_loss: 0.5458 - val_accuracy: 0.7143\n",
      "Epoch 33/60\n",
      "3/3 [==============================] - 1s 197ms/step - loss: 0.5457 - accuracy: 0.7191 - val_loss: 0.5482 - val_accuracy: 0.7143\n",
      "Epoch 34/60\n",
      "3/3 [==============================] - 1s 227ms/step - loss: 0.5503 - accuracy: 0.7191 - val_loss: 0.5469 - val_accuracy: 0.7143\n",
      "Epoch 35/60\n",
      "3/3 [==============================] - 1s 197ms/step - loss: 0.5415 - accuracy: 0.7191 - val_loss: 0.5443 - val_accuracy: 0.7143\n",
      "Epoch 36/60\n",
      "3/3 [==============================] - 1s 209ms/step - loss: 0.5433 - accuracy: 0.7191 - val_loss: 0.5418 - val_accuracy: 0.7143\n",
      "Epoch 37/60\n",
      "3/3 [==============================] - 1s 195ms/step - loss: 0.5408 - accuracy: 0.7191 - val_loss: 0.5342 - val_accuracy: 0.7143\n",
      "Epoch 38/60\n",
      "3/3 [==============================] - 1s 212ms/step - loss: 0.5387 - accuracy: 0.7191 - val_loss: 0.5425 - val_accuracy: 0.7143\n",
      "Epoch 39/60\n",
      "3/3 [==============================] - 1s 196ms/step - loss: 0.5339 - accuracy: 0.7191 - val_loss: 0.5287 - val_accuracy: 0.7143\n",
      "Epoch 40/60\n",
      "3/3 [==============================] - 1s 211ms/step - loss: 0.5329 - accuracy: 0.7191 - val_loss: 0.5311 - val_accuracy: 0.7143\n",
      "Epoch 41/60\n",
      "3/3 [==============================] - 1s 225ms/step - loss: 0.5271 - accuracy: 0.7191 - val_loss: 0.5198 - val_accuracy: 0.7143\n",
      "Epoch 42/60\n",
      "3/3 [==============================] - 1s 222ms/step - loss: 0.5284 - accuracy: 0.7191 - val_loss: 0.5090 - val_accuracy: 0.7143\n",
      "Epoch 43/60\n",
      "3/3 [==============================] - 1s 200ms/step - loss: 0.5242 - accuracy: 0.7191 - val_loss: 0.5021 - val_accuracy: 0.7143\n",
      "Epoch 44/60\n",
      "3/3 [==============================] - 1s 197ms/step - loss: 0.5129 - accuracy: 0.7191 - val_loss: 0.4941 - val_accuracy: 0.7143\n",
      "Epoch 45/60\n",
      "3/3 [==============================] - 1s 201ms/step - loss: 0.5175 - accuracy: 0.7191 - val_loss: 0.4974 - val_accuracy: 0.7143\n",
      "Epoch 46/60\n",
      "3/3 [==============================] - 1s 215ms/step - loss: 0.4976 - accuracy: 0.7191 - val_loss: 0.4930 - val_accuracy: 0.7143\n",
      "Epoch 47/60\n",
      "3/3 [==============================] - 1s 214ms/step - loss: 0.4936 - accuracy: 0.7191 - val_loss: 0.4961 - val_accuracy: 0.7143\n",
      "Epoch 48/60\n",
      "3/3 [==============================] - 1s 230ms/step - loss: 0.4785 - accuracy: 0.7191 - val_loss: 0.4667 - val_accuracy: 0.7143\n",
      "Epoch 49/60\n",
      "3/3 [==============================] - 1s 216ms/step - loss: 0.4764 - accuracy: 0.7191 - val_loss: 0.4639 - val_accuracy: 0.7143\n",
      "Epoch 50/60\n",
      "3/3 [==============================] - 1s 215ms/step - loss: 0.4642 - accuracy: 0.7191 - val_loss: 0.4507 - val_accuracy: 0.7143\n",
      "Epoch 51/60\n",
      "3/3 [==============================] - 1s 201ms/step - loss: 0.4669 - accuracy: 0.7191 - val_loss: 0.4546 - val_accuracy: 0.7143\n",
      "Epoch 52/60\n",
      "3/3 [==============================] - 1s 201ms/step - loss: 0.4438 - accuracy: 0.7191 - val_loss: 0.4111 - val_accuracy: 0.7619\n",
      "Epoch 53/60\n",
      "3/3 [==============================] - 1s 199ms/step - loss: 0.4268 - accuracy: 0.7191 - val_loss: 0.3990 - val_accuracy: 0.7143\n",
      "Epoch 54/60\n",
      "3/3 [==============================] - 1s 198ms/step - loss: 0.4080 - accuracy: 0.7191 - val_loss: 0.3727 - val_accuracy: 0.7143\n",
      "Epoch 55/60\n",
      "3/3 [==============================] - 1s 231ms/step - loss: 0.3787 - accuracy: 0.7303 - val_loss: 0.3628 - val_accuracy: 0.8571\n",
      "Epoch 56/60\n",
      "3/3 [==============================] - 1s 218ms/step - loss: 0.3910 - accuracy: 0.8876 - val_loss: 0.3265 - val_accuracy: 0.9048\n",
      "Epoch 57/60\n",
      "3/3 [==============================] - 1s 205ms/step - loss: 0.3399 - accuracy: 0.7640 - val_loss: 0.3386 - val_accuracy: 0.8095\n",
      "Epoch 58/60\n",
      "3/3 [==============================] - 1s 203ms/step - loss: 0.3365 - accuracy: 0.7640 - val_loss: 0.3102 - val_accuracy: 1.0000\n",
      "Epoch 59/60\n",
      "3/3 [==============================] - 1s 201ms/step - loss: 0.3189 - accuracy: 1.0000 - val_loss: 0.2674 - val_accuracy: 0.9524\n",
      "Epoch 60/60\n",
      "3/3 [==============================] - 1s 198ms/step - loss: 0.2940 - accuracy: 0.8315 - val_loss: 0.2422 - val_accuracy: 1.0000\n"
     ]
    },
    {
     "data": {
      "text/plain": [
       "<tensorflow.python.keras.callbacks.History at 0x1dca9401cf8>"
      ]
     },
     "execution_count": 36,
     "metadata": {},
     "output_type": "execute_result"
    }
   ],
   "source": [
    "model.fit(\n",
    "    train_ds,\n",
    "    validation_data=val_ds,\n",
    "    epochs=60,\n",
    "    verbose=1,\n",
    "    workers=-1,\n",
    "    use_multiprocessing=True,\n",
    "    callbacks=[\n",
    "        TensorBoard(log_dir=\"../logs/\" + strftime(\"%Y%m%d-%H%M%S\", localtime()))\n",
    "    ]\n",
    ")"
   ]
  },
  {
   "cell_type": "code",
   "execution_count": null,
   "metadata": {},
   "outputs": [],
   "source": [
    "tensorboard --logdir ../logs"
   ]
  },
  {
   "cell_type": "code",
   "execution_count": 40,
   "metadata": {
    "ExecuteTime": {
     "end_time": "2021-10-18T06:30:24.175317Z",
     "start_time": "2021-10-18T06:30:23.374302Z"
    }
   },
   "outputs": [
    {
     "name": "stdout",
     "output_type": "stream",
     "text": [
      "INFO:tensorflow:Assets written to: ../models/pic_clf/1\\assets\n"
     ]
    }
   ],
   "source": [
    "save_model(model, \"home/centos/pic_clf/1\")      # save_model(model, \"../models/pic_clf/1\")"
   ]
  },
  {
   "cell_type": "markdown",
   "metadata": {},
   "source": [
    "<h3>部署模型并预测</h3>"
   ]
  },
  {
   "cell_type": "markdown",
   "metadata": {},
   "source": [
    "<h4>部署模型</h4>"
   ]
  },
  {
   "cell_type": "markdown",
   "metadata": {},
   "source": [
    "<h5>安装docker</h5>"
   ]
  },
  {
   "cell_type": "code",
   "execution_count": null,
   "metadata": {},
   "outputs": [],
   "source": [
    "!sudo yum install -y epel-release\n",
    "!sudo yum install https://get.docker.com/rpm/1.7.1/centos-6/RPMS/x86_64/docker-engine-1.7.1-1.el6.x86_64.rpm\n",
    "!docker version\n",
    "!sudo service docker start"
   ]
  },
  {
   "cell_type": "markdown",
   "metadata": {},
   "source": [
    "<h5>拉取镜像</h5>"
   ]
  },
  {
   "cell_type": "code",
   "execution_count": null,
   "metadata": {},
   "outputs": [],
   "source": [
    "!docker pull tensorflow/serving:2.3.0"
   ]
  },
  {
   "cell_type": "markdown",
   "metadata": {},
   "source": [
    "<h5>部署服务</h5>"
   ]
  },
  {
   "cell_type": "code",
   "execution_count": null,
   "metadata": {},
   "outputs": [],
   "source": [
    "!docker run -t \\\n",
    "    -p 8501:8501 \\\n",
    "    -v \"/home/centos/pic_clf:/models/pic_clf\" \\\n",
    "    -e MODEL_NAME=pic_clf \\\n",
    "    tensorflow/serving:2.3.0"
   ]
  },
  {
   "cell_type": "markdown",
   "metadata": {},
   "source": [
    "<h4>测试数据</h4>"
   ]
  },
  {
   "cell_type": "markdown",
   "metadata": {},
   "source": [
    "<h5>读取测试数据</h5>"
   ]
  },
  {
   "cell_type": "code",
   "execution_count": 50,
   "metadata": {
    "ExecuteTime": {
     "end_time": "2021-10-18T07:26:00.710658Z",
     "start_time": "2021-10-18T07:26:00.414254Z"
    }
   },
   "outputs": [
    {
     "name": "stdout",
     "output_type": "stream",
     "text": [
      "Found 63 files belonging to 2 classes.\n"
     ]
    }
   ],
   "source": [
    "x_test, y_test = list(image_dataset_from_directory(test_dir, image_size=(160, 160)))[1]"
   ]
  },
  {
   "cell_type": "code",
   "execution_count": 51,
   "metadata": {
    "ExecuteTime": {
     "end_time": "2021-10-18T07:26:01.223297Z",
     "start_time": "2021-10-18T07:26:01.214322Z"
    },
    "pycharm": {
     "name": "#%%\n"
    }
   },
   "outputs": [],
   "source": [
    "x_test = x_test.numpy()\n",
    "y_test = y_test.numpy()"
   ]
  },
  {
   "cell_type": "markdown",
   "metadata": {},
   "source": [
    "<h5>给测试数据做预处理</h5>"
   ]
  },
  {
   "cell_type": "code",
   "execution_count": 52,
   "metadata": {
    "ExecuteTime": {
     "end_time": "2021-10-18T07:26:02.811934Z",
     "start_time": "2021-10-18T07:26:02.781868Z"
    }
   },
   "outputs": [],
   "source": [
    "for i in range(x_test.shape[0]):\n",
    "    x_test[i, :, :, :] = find_edges(x_test[i]) / 255"
   ]
  },
  {
   "cell_type": "markdown",
   "metadata": {},
   "source": [
    "<h5>预测数据</h5>"
   ]
  },
  {
   "cell_type": "code",
   "execution_count": 53,
   "metadata": {
    "ExecuteTime": {
     "end_time": "2021-10-18T07:26:11.803442Z",
     "start_time": "2021-10-18T07:26:04.830210Z"
    }
   },
   "outputs": [],
   "source": [
    "data = json.dumps({\"instances\": x_test.tolist()})\n",
    "headers = {\"content-type\": \"application/json\"}\n",
    "response = requests.post(\n",
    "    url=\"http://81.70.8.71:8501/v1/models/pic_clf:predict\",\n",
    "    data=data,\n",
    "    headers=headers\n",
    ")"
   ]
  },
  {
   "cell_type": "code",
   "execution_count": 54,
   "metadata": {
    "ExecuteTime": {
     "end_time": "2021-10-18T07:26:13.521854Z",
     "start_time": "2021-10-18T07:26:13.517860Z"
    }
   },
   "outputs": [],
   "source": [
    "y_pred_prob = np.array(json.loads(response.text)[\"predictions\"])"
   ]
  },
  {
   "cell_type": "code",
   "execution_count": 55,
   "metadata": {
    "ExecuteTime": {
     "end_time": "2021-10-18T07:26:13.874302Z",
     "start_time": "2021-10-18T07:26:13.870333Z"
    }
   },
   "outputs": [],
   "source": [
    "y_pred = np.where(y_pred_prob > 0.5, 1, 0).ravel()"
   ]
  },
  {
   "cell_type": "code",
   "execution_count": 56,
   "metadata": {
    "ExecuteTime": {
     "end_time": "2021-10-18T07:26:14.271310Z",
     "start_time": "2021-10-18T07:26:14.262304Z"
    }
   },
   "outputs": [
    {
     "name": "stdout",
     "output_type": "stream",
     "text": [
      "              precision    recall  f1-score   support\n",
      "\n",
      "           0       1.00      0.86      0.92         7\n",
      "           1       0.96      1.00      0.98        24\n",
      "\n",
      "    accuracy                           0.97        31\n",
      "   macro avg       0.98      0.93      0.95        31\n",
      "weighted avg       0.97      0.97      0.97        31\n",
      "\n"
     ]
    }
   ],
   "source": [
    "print(classification_report(y_test, y_pred))"
   ]
  },
  {
   "cell_type": "code",
   "execution_count": null,
   "metadata": {},
   "outputs": [],
   "source": []
  }
 ],
 "metadata": {
  "kernelspec": {
   "display_name": "Python 3",
   "language": "python",
   "name": "python3"
  },
  "language_info": {
   "codemirror_mode": {
    "name": "ipython",
    "version": 3
   },
   "file_extension": ".py",
   "mimetype": "text/x-python",
   "name": "python",
   "nbconvert_exporter": "python",
   "pygments_lexer": "ipython3",
   "version": "3.7.3"
  },
  "toc": {
   "base_numbering": 1,
   "nav_menu": {},
   "number_sections": true,
   "sideBar": true,
   "skip_h1_title": false,
   "title_cell": "Table of Contents",
   "title_sidebar": "Contents",
   "toc_cell": false,
   "toc_position": {},
   "toc_section_display": true,
   "toc_window_display": true
  },
  "varInspector": {
   "cols": {
    "lenName": 16,
    "lenType": 16,
    "lenVar": 40
   },
   "kernels_config": {
    "python": {
     "delete_cmd_postfix": "",
     "delete_cmd_prefix": "del ",
     "library": "var_list.py",
     "varRefreshCmd": "print(var_dic_list())"
    },
    "r": {
     "delete_cmd_postfix": ") ",
     "delete_cmd_prefix": "rm(",
     "library": "var_list.r",
     "varRefreshCmd": "cat(var_dic_list()) "
    }
   },
   "types_to_exclude": [
    "module",
    "function",
    "builtin_function_or_method",
    "instance",
    "_Feature"
   ],
   "window_display": true
  }
 },
 "nbformat": 4,
 "nbformat_minor": 4
}
