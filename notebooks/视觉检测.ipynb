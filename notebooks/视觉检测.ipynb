{
 "cells": [
  {
   "cell_type": "markdown",
   "metadata": {},
   "source": [
    "<h3>准备</h3>"
   ]
  },
  {
   "cell_type": "markdown",
   "metadata": {},
   "source": [
    "<h4>导入包</h4>"
   ]
  },
  {
   "cell_type": "code",
   "execution_count": 23,
   "metadata": {
    "ExecuteTime": {
     "end_time": "2021-10-18T09:02:21.434853Z",
     "start_time": "2021-10-18T09:02:21.428888Z"
    }
   },
   "outputs": [],
   "source": [
    "import os\n",
    "import json\n",
    "import requests\n",
    "from time import localtime, strftime\n",
    "from typing import Optional, Union\n",
    "from PIL.Image import Image, open, fromarray\n",
    "from PIL.ImageFilter import FIND_EDGES\n",
    "import numpy as np\n",
    "import tensorflow as tf\n",
    "from tensorflow import Tensor\n",
    "from tensorflow.keras.models import Sequential, save_model, load_model\n",
    "from tensorflow.keras.layers import Dense, Conv2D, MaxPool2D, Dropout, LeakyReLU, Flatten, Lambda\n",
    "from tensorflow.keras.layers.experimental.preprocessing import Resizing, Rescaling\n",
    "from tensorflow.keras.losses import BinaryCrossentropy\n",
    "from tensorflow.keras.optimizers import Adam, RMSprop, SGD\n",
    "from tensorflow.keras.callbacks import History, Callback, TensorBoard, EarlyStopping\n",
    "from tensorflow.keras.preprocessing import image_dataset_from_directory\n",
    "from tensorflow.keras.preprocessing.image import ImageDataGenerator\n",
    "from tensorflow.keras.backend import clear_session\n",
    "from sklearn.metrics import classification_report"
   ]
  },
  {
   "cell_type": "markdown",
   "metadata": {},
   "source": [
    "<h4>设置tensorflow</h4>"
   ]
  },
  {
   "cell_type": "code",
   "execution_count": 19,
   "metadata": {
    "ExecuteTime": {
     "end_time": "2021-10-18T08:46:32.540573Z",
     "start_time": "2021-10-18T08:46:32.536602Z"
    }
   },
   "outputs": [],
   "source": [
    "tf.compat.v1.enable_eager_execution()\n",
    "for gpu in tf.config.experimental.list_physical_devices(\"GPU\"):\n",
    "    tf.config.experimental.set_memory_growth(gpu, True)"
   ]
  },
  {
   "cell_type": "markdown",
   "metadata": {},
   "source": [
    "<h3>准备数据</h3>"
   ]
  },
  {
   "cell_type": "code",
   "execution_count": 8,
   "metadata": {
    "ExecuteTime": {
     "end_time": "2021-10-18T08:35:58.077916Z",
     "start_time": "2021-10-18T08:35:58.073917Z"
    }
   },
   "outputs": [],
   "source": [
    "train_dir = os.path.join(\"../data/pic/\", \"train\")\n",
    "test_dir = os.path.join(\"../data/pic/\", \"test\")"
   ]
  },
  {
   "cell_type": "markdown",
   "metadata": {},
   "source": [
    "<h4>边缘检测</h4>"
   ]
  },
  {
   "cell_type": "code",
   "execution_count": 30,
   "metadata": {
    "ExecuteTime": {
     "end_time": "2021-10-18T09:12:59.482482Z",
     "start_time": "2021-10-18T09:12:59.476451Z"
    }
   },
   "outputs": [],
   "source": [
    "def find_edges(img: Union[np.ndarray, Image]) -> np.ndarray:\n",
    "    \"\"\"\n",
    "    图片边缘检测\\n\n",
    "    :param img: 一张图片\n",
    "    :return: 边缘检测后的图片\n",
    "    \"\"\"\n",
    "    if isinstance(img, np.ndarray):\n",
    "        image: Image = fromarray(img.astype(np.uint8))\n",
    "    else:\n",
    "        image: Image = img\n",
    "    return np.array(image.filter(FIND_EDGES)).astype(\"float\")"
   ]
  },
  {
   "cell_type": "markdown",
   "metadata": {},
   "source": [
    "<h4>数据预处理</h4>"
   ]
  },
  {
   "cell_type": "code",
   "execution_count": 31,
   "metadata": {
    "ExecuteTime": {
     "end_time": "2021-10-18T09:13:02.319223Z",
     "start_time": "2021-10-18T09:13:02.315225Z"
    }
   },
   "outputs": [],
   "source": [
    "train_gen = ImageDataGenerator(\n",
    "    horizontal_flip=True,\n",
    "    vertical_flip=True,\n",
    "    rotation_range=360,\n",
    "    width_shift_range=0.03,\n",
    "    height_shift_range=0.03,\n",
    "    fill_mode='nearest',\n",
    "    validation_split=0.2\n",
    ")\n",
    "val_gen = ImageDataGenerator(\n",
    "    validation_split=0.2\n",
    ")"
   ]
  },
  {
   "cell_type": "code",
   "execution_count": 32,
   "metadata": {
    "ExecuteTime": {
     "end_time": "2021-10-18T09:13:04.626494Z",
     "start_time": "2021-10-18T09:13:04.387253Z"
    }
   },
   "outputs": [
    {
     "name": "stdout",
     "output_type": "stream",
     "text": [
      "Found 89 images belonging to 2 classes.\n",
      "Found 21 images belonging to 2 classes.\n"
     ]
    }
   ],
   "source": [
    "train_ds = train_gen.flow_from_directory(\n",
    "    train_dir,\n",
    "    target_size=(160, 160),\n",
    "    color_mode='rgb',\n",
    "    class_mode='binary',\n",
    "    batch_size=32,\n",
    "    shuffle=True,\n",
    "    seed=123,\n",
    "    subset=\"training\"\n",
    ")\n",
    "val_ds = train_gen.flow_from_directory(\n",
    "    train_dir,\n",
    "    target_size=(160, 160),\n",
    "    color_mode='rgb',\n",
    "    class_mode='binary',\n",
    "    batch_size=32,\n",
    "    shuffle=True,\n",
    "    seed=123,\n",
    "    subset=\"validation\"\n",
    ")"
   ]
  },
  {
   "cell_type": "markdown",
   "metadata": {},
   "source": [
    "<h3>搭建模型并训练</h3>"
   ]
  },
  {
   "cell_type": "markdown",
   "metadata": {},
   "source": [
    "<h4>搭建模型</h4>"
   ]
  },
  {
   "cell_type": "code",
   "execution_count": 38,
   "metadata": {
    "ExecuteTime": {
     "end_time": "2021-10-18T09:16:01.012545Z",
     "start_time": "2021-10-18T09:16:00.924573Z"
    }
   },
   "outputs": [
    {
     "name": "stdout",
     "output_type": "stream",
     "text": [
      "Model: \"pic_clf\"\n",
      "_________________________________________________________________\n",
      "Layer (type)                 Output Shape              Param #   \n",
      "=================================================================\n",
      "resize (Resizing)            (None, 160, 160, 3)       0         \n",
      "_________________________________________________________________\n",
      "rescale (Rescaling)          (None, 160, 160, 3)       0         \n",
      "_________________________________________________________________\n",
      "conv2d1 (Conv2D)             (None, 158, 158, 32)      896       \n",
      "_________________________________________________________________\n",
      "maxpool2d_1 (MaxPooling2D)   (None, 79, 79, 32)        0         \n",
      "_________________________________________________________________\n",
      "conv2d2 (Conv2D)             (None, 77, 77, 64)        18496     \n",
      "_________________________________________________________________\n",
      "maxpool2d_2 (MaxPooling2D)   (None, 38, 38, 64)        0         \n",
      "_________________________________________________________________\n",
      "conv2d3 (Conv2D)             (None, 36, 36, 128)       73856     \n",
      "_________________________________________________________________\n",
      "maxpool2d_3 (MaxPooling2D)   (None, 18, 18, 128)       0         \n",
      "_________________________________________________________________\n",
      "conv2d4 (Conv2D)             (None, 16, 16, 32)        36896     \n",
      "_________________________________________________________________\n",
      "maxpool2d_4 (MaxPooling2D)   (None, 8, 8, 32)          0         \n",
      "_________________________________________________________________\n",
      "conv2d5 (Conv2D)             (None, 6, 6, 16)          4624      \n",
      "_________________________________________________________________\n",
      "maxpool2d_5 (MaxPooling2D)   (None, 3, 3, 16)          0         \n",
      "_________________________________________________________________\n",
      "flatten_6 (Flatten)          (None, 144)               0         \n",
      "_________________________________________________________________\n",
      "dense_6 (Dense)              (None, 16)                2320      \n",
      "_________________________________________________________________\n",
      "dense_7 (Dense)              (None, 1)                 17        \n",
      "=================================================================\n",
      "Total params: 137,105\n",
      "Trainable params: 137,105\n",
      "Non-trainable params: 0\n",
      "_________________________________________________________________\n"
     ]
    }
   ],
   "source": [
    "clear_session()\n",
    "model = Sequential([\n",
    "    Resizing(160, 160, name=\"resize\", input_shape=(160, 160, 3)),\n",
    "    Rescaling(1.0 / 255, name=\"rescale\"),\n",
    "    Conv2D(filters=32, kernel_size=(3, 3), data_format=\"channels_last\", activation=\"relu\", name=\"conv2d1\"),\n",
    "    MaxPool2D(pool_size=(2, 2), name=\"maxpool2d_1\"),\n",
    "    Conv2D(filters=64, kernel_size=(3, 3), data_format=\"channels_last\", activation=\"relu\", name=\"conv2d2\"),\n",
    "    MaxPool2D(pool_size=(2, 2), name=\"maxpool2d_2\"),\n",
    "    Conv2D(filters=128, kernel_size=(3, 3), data_format=\"channels_last\", activation=\"relu\", name=\"conv2d3\"),\n",
    "    MaxPool2D(pool_size=(2, 2), name=\"maxpool2d_3\"),\n",
    "    Conv2D(filters=32, kernel_size=(3, 3), data_format=\"channels_last\", activation=\"relu\", name=\"conv2d4\"),\n",
    "    MaxPool2D(pool_size=(2, 2), name=\"maxpool2d_4\"),\n",
    "    Conv2D(filters=16, kernel_size=(3, 3), data_format=\"channels_last\", activation=\"relu\", name=\"conv2d5\"),\n",
    "    MaxPool2D(pool_size=(2, 2), name=\"maxpool2d_5\"),\n",
    "    Flatten(data_format=\"channels_last\", name=\"flatten_6\"),\n",
    "    Dense(units=16, activation=\"relu\", name=\"dense_6\"),\n",
    "    Dense(units=1, activation=\"sigmoid\", name=\"dense_7\")\n",
    "], name=\"pic_clf\")\n",
    "model.compile(\n",
    "    loss=BinaryCrossentropy(),\n",
    "    optimizer=Adam(learning_rate=1e-4),\n",
    "    metrics=[\"accuracy\"]\n",
    ")\n",
    "model.summary()"
   ]
  },
  {
   "cell_type": "markdown",
   "metadata": {},
   "source": [
    "<h4>模型训练</h4>"
   ]
  },
  {
   "cell_type": "code",
   "execution_count": 39,
   "metadata": {
    "ExecuteTime": {
     "end_time": "2021-10-18T09:17:37.892397Z",
     "start_time": "2021-10-18T09:16:08.876172Z"
    }
   },
   "outputs": [
    {
     "name": "stdout",
     "output_type": "stream",
     "text": [
      "Epoch 1/120\n",
      "3/3 [==============================] - 1s 297ms/step - loss: 0.6789 - accuracy: 0.7191 - val_loss: 0.6684 - val_accuracy: 0.7143\n",
      "Epoch 2/120\n",
      "3/3 [==============================] - 1s 175ms/step - loss: 0.6630 - accuracy: 0.7191 - val_loss: 0.6492 - val_accuracy: 0.7143\n",
      "Epoch 3/120\n",
      "3/3 [==============================] - 1s 188ms/step - loss: 0.6410 - accuracy: 0.7191 - val_loss: 0.6336 - val_accuracy: 0.7143\n",
      "Epoch 4/120\n",
      "3/3 [==============================] - 1s 174ms/step - loss: 0.6280 - accuracy: 0.7191 - val_loss: 0.6181 - val_accuracy: 0.7143\n",
      "Epoch 5/120\n",
      "3/3 [==============================] - 1s 180ms/step - loss: 0.6113 - accuracy: 0.7191 - val_loss: 0.6045 - val_accuracy: 0.7143\n",
      "Epoch 6/120\n",
      "3/3 [==============================] - 1s 192ms/step - loss: 0.5969 - accuracy: 0.7191 - val_loss: 0.5958 - val_accuracy: 0.7143\n",
      "Epoch 7/120\n",
      "3/3 [==============================] - 1s 187ms/step - loss: 0.5922 - accuracy: 0.7191 - val_loss: 0.5907 - val_accuracy: 0.7143\n",
      "Epoch 8/120\n",
      "3/3 [==============================] - 1s 187ms/step - loss: 0.5893 - accuracy: 0.7191 - val_loss: 0.5938 - val_accuracy: 0.7143\n",
      "Epoch 9/120\n",
      "3/3 [==============================] - 1s 174ms/step - loss: 0.5878 - accuracy: 0.7191 - val_loss: 0.5934 - val_accuracy: 0.7143\n",
      "Epoch 10/120\n",
      "3/3 [==============================] - 1s 196ms/step - loss: 0.5884 - accuracy: 0.7191 - val_loss: 0.5921 - val_accuracy: 0.7143\n",
      "Epoch 11/120\n",
      "3/3 [==============================] - 1s 181ms/step - loss: 0.5871 - accuracy: 0.7191 - val_loss: 0.5913 - val_accuracy: 0.7143\n",
      "Epoch 12/120\n",
      "3/3 [==============================] - 1s 172ms/step - loss: 0.5873 - accuracy: 0.7191 - val_loss: 0.5912 - val_accuracy: 0.7143\n",
      "Epoch 13/120\n",
      "3/3 [==============================] - 1s 187ms/step - loss: 0.5851 - accuracy: 0.7191 - val_loss: 0.5849 - val_accuracy: 0.7143\n",
      "Epoch 14/120\n",
      "3/3 [==============================] - 1s 172ms/step - loss: 0.5870 - accuracy: 0.7191 - val_loss: 0.5866 - val_accuracy: 0.7143\n",
      "Epoch 15/120\n",
      "3/3 [==============================] - 1s 177ms/step - loss: 0.5856 - accuracy: 0.7191 - val_loss: 0.5855 - val_accuracy: 0.7143\n",
      "Epoch 16/120\n",
      "3/3 [==============================] - 1s 178ms/step - loss: 0.5830 - accuracy: 0.7191 - val_loss: 0.5829 - val_accuracy: 0.7143\n",
      "Epoch 17/120\n",
      "3/3 [==============================] - 1s 191ms/step - loss: 0.5816 - accuracy: 0.7191 - val_loss: 0.5861 - val_accuracy: 0.7143\n",
      "Epoch 18/120\n",
      "3/3 [==============================] - 1s 179ms/step - loss: 0.5791 - accuracy: 0.7191 - val_loss: 0.5841 - val_accuracy: 0.7143\n",
      "Epoch 19/120\n",
      "3/3 [==============================] - 1s 176ms/step - loss: 0.5811 - accuracy: 0.7191 - val_loss: 0.5824 - val_accuracy: 0.7143\n",
      "Epoch 20/120\n",
      "3/3 [==============================] - 1s 193ms/step - loss: 0.5778 - accuracy: 0.7191 - val_loss: 0.5797 - val_accuracy: 0.7143\n",
      "Epoch 21/120\n",
      "3/3 [==============================] - 1s 183ms/step - loss: 0.5762 - accuracy: 0.7191 - val_loss: 0.5741 - val_accuracy: 0.7143\n",
      "Epoch 22/120\n",
      "3/3 [==============================] - 1s 191ms/step - loss: 0.5760 - accuracy: 0.7191 - val_loss: 0.5718 - val_accuracy: 0.7143\n",
      "Epoch 23/120\n",
      "3/3 [==============================] - 1s 176ms/step - loss: 0.5746 - accuracy: 0.7191 - val_loss: 0.5742 - val_accuracy: 0.7143\n",
      "Epoch 24/120\n",
      "3/3 [==============================] - 1s 176ms/step - loss: 0.5717 - accuracy: 0.7191 - val_loss: 0.5719 - val_accuracy: 0.7143\n",
      "Epoch 25/120\n",
      "3/3 [==============================] - 1s 174ms/step - loss: 0.5711 - accuracy: 0.7191 - val_loss: 0.5690 - val_accuracy: 0.7143\n",
      "Epoch 26/120\n",
      "3/3 [==============================] - 1s 174ms/step - loss: 0.5724 - accuracy: 0.7191 - val_loss: 0.5709 - val_accuracy: 0.7143\n",
      "Epoch 27/120\n",
      "3/3 [==============================] - 1s 172ms/step - loss: 0.5702 - accuracy: 0.7191 - val_loss: 0.5664 - val_accuracy: 0.7143\n",
      "Epoch 28/120\n",
      "3/3 [==============================] - 1s 172ms/step - loss: 0.5699 - accuracy: 0.7191 - val_loss: 0.5644 - val_accuracy: 0.7143\n",
      "Epoch 29/120\n",
      "3/3 [==============================] - 1s 180ms/step - loss: 0.5634 - accuracy: 0.7191 - val_loss: 0.5608 - val_accuracy: 0.7143\n",
      "Epoch 30/120\n",
      "3/3 [==============================] - 1s 194ms/step - loss: 0.5583 - accuracy: 0.7191 - val_loss: 0.5572 - val_accuracy: 0.7143\n",
      "Epoch 31/120\n",
      "3/3 [==============================] - 1s 200ms/step - loss: 0.5572 - accuracy: 0.7191 - val_loss: 0.5506 - val_accuracy: 0.7143\n",
      "Epoch 32/120\n",
      "3/3 [==============================] - 1s 196ms/step - loss: 0.5547 - accuracy: 0.7191 - val_loss: 0.5516 - val_accuracy: 0.7143\n",
      "Epoch 33/120\n",
      "3/3 [==============================] - 1s 183ms/step - loss: 0.5500 - accuracy: 0.7191 - val_loss: 0.5466 - val_accuracy: 0.7143\n",
      "Epoch 34/120\n",
      "3/3 [==============================] - 1s 179ms/step - loss: 0.5458 - accuracy: 0.7191 - val_loss: 0.5391 - val_accuracy: 0.7143\n",
      "Epoch 35/120\n",
      "3/3 [==============================] - 1s 193ms/step - loss: 0.5500 - accuracy: 0.7191 - val_loss: 0.5400 - val_accuracy: 0.7143\n",
      "Epoch 36/120\n",
      "3/3 [==============================] - 1s 179ms/step - loss: 0.5398 - accuracy: 0.7191 - val_loss: 0.5320 - val_accuracy: 0.7143\n",
      "Epoch 37/120\n",
      "3/3 [==============================] - 1s 188ms/step - loss: 0.5331 - accuracy: 0.7191 - val_loss: 0.5197 - val_accuracy: 0.7143\n",
      "Epoch 38/120\n",
      "3/3 [==============================] - 1s 191ms/step - loss: 0.5266 - accuracy: 0.7191 - val_loss: 0.5174 - val_accuracy: 0.7143\n",
      "Epoch 39/120\n",
      "3/3 [==============================] - 1s 179ms/step - loss: 0.5217 - accuracy: 0.7191 - val_loss: 0.5173 - val_accuracy: 0.7143\n",
      "Epoch 40/120\n",
      "3/3 [==============================] - 1s 179ms/step - loss: 0.5188 - accuracy: 0.7191 - val_loss: 0.4983 - val_accuracy: 0.7143\n",
      "Epoch 41/120\n",
      "3/3 [==============================] - 1s 179ms/step - loss: 0.5087 - accuracy: 0.7191 - val_loss: 0.4927 - val_accuracy: 0.7143\n",
      "Epoch 42/120\n",
      "3/3 [==============================] - 1s 187ms/step - loss: 0.5018 - accuracy: 0.7191 - val_loss: 0.4881 - val_accuracy: 0.7143\n",
      "Epoch 43/120\n",
      "3/3 [==============================] - 1s 186ms/step - loss: 0.4897 - accuracy: 0.7191 - val_loss: 0.4674 - val_accuracy: 0.7143\n",
      "Epoch 44/120\n",
      "3/3 [==============================] - 1s 173ms/step - loss: 0.4901 - accuracy: 0.7191 - val_loss: 0.4683 - val_accuracy: 0.7143\n",
      "Epoch 45/120\n",
      "3/3 [==============================] - 1s 187ms/step - loss: 0.4715 - accuracy: 0.7191 - val_loss: 0.4516 - val_accuracy: 0.7143\n",
      "Epoch 46/120\n",
      "3/3 [==============================] - 1s 186ms/step - loss: 0.4602 - accuracy: 0.7191 - val_loss: 0.4388 - val_accuracy: 0.7143\n",
      "Epoch 47/120\n",
      "3/3 [==============================] - 1s 175ms/step - loss: 0.4475 - accuracy: 0.7191 - val_loss: 0.4232 - val_accuracy: 0.7143\n",
      "Epoch 48/120\n",
      "3/3 [==============================] - 1s 187ms/step - loss: 0.4373 - accuracy: 0.7191 - val_loss: 0.4104 - val_accuracy: 0.7143\n",
      "Epoch 49/120\n",
      "3/3 [==============================] - 1s 189ms/step - loss: 0.4250 - accuracy: 0.7528 - val_loss: 0.3979 - val_accuracy: 0.8571\n",
      "Epoch 50/120\n",
      "3/3 [==============================] - 1s 174ms/step - loss: 0.4092 - accuracy: 0.7753 - val_loss: 0.3704 - val_accuracy: 0.8095\n",
      "Epoch 51/120\n",
      "3/3 [==============================] - 1s 186ms/step - loss: 0.3901 - accuracy: 0.7753 - val_loss: 0.3464 - val_accuracy: 0.8571\n",
      "Epoch 52/120\n",
      "3/3 [==============================] - 1s 175ms/step - loss: 0.3802 - accuracy: 0.7528 - val_loss: 0.3388 - val_accuracy: 0.8571\n",
      "Epoch 53/120\n",
      "3/3 [==============================] - 1s 173ms/step - loss: 0.3475 - accuracy: 0.8539 - val_loss: 0.3182 - val_accuracy: 1.0000\n",
      "Epoch 54/120\n",
      "3/3 [==============================] - 1s 173ms/step - loss: 0.3388 - accuracy: 0.9101 - val_loss: 0.2981 - val_accuracy: 0.9524\n",
      "Epoch 55/120\n",
      "3/3 [==============================] - 1s 177ms/step - loss: 0.3121 - accuracy: 0.9213 - val_loss: 0.2674 - val_accuracy: 0.9524\n",
      "Epoch 56/120\n",
      "3/3 [==============================] - 1s 174ms/step - loss: 0.2943 - accuracy: 0.9101 - val_loss: 0.2543 - val_accuracy: 0.9524\n",
      "Epoch 57/120\n",
      "3/3 [==============================] - 1s 175ms/step - loss: 0.2709 - accuracy: 0.9663 - val_loss: 0.2228 - val_accuracy: 1.0000\n",
      "Epoch 58/120\n",
      "3/3 [==============================] - 1s 186ms/step - loss: 0.2482 - accuracy: 0.9888 - val_loss: 0.2069 - val_accuracy: 1.0000\n"
     ]
    },
    {
     "name": "stdout",
     "output_type": "stream",
     "text": [
      "Epoch 59/120\n",
      "3/3 [==============================] - 1s 173ms/step - loss: 0.2571 - accuracy: 0.8876 - val_loss: 0.1795 - val_accuracy: 1.0000\n",
      "Epoch 60/120\n",
      "3/3 [==============================] - 1s 173ms/step - loss: 0.2359 - accuracy: 0.9888 - val_loss: 0.1837 - val_accuracy: 1.0000\n",
      "Epoch 61/120\n",
      "3/3 [==============================] - 1s 174ms/step - loss: 0.2019 - accuracy: 0.9775 - val_loss: 0.1623 - val_accuracy: 1.0000\n",
      "Epoch 62/120\n",
      "3/3 [==============================] - 1s 176ms/step - loss: 0.1864 - accuracy: 0.9551 - val_loss: 0.1428 - val_accuracy: 1.0000\n",
      "Epoch 63/120\n",
      "3/3 [==============================] - 1s 188ms/step - loss: 0.1649 - accuracy: 1.0000 - val_loss: 0.1230 - val_accuracy: 1.0000\n",
      "Epoch 64/120\n",
      "3/3 [==============================] - 1s 178ms/step - loss: 0.1371 - accuracy: 1.0000 - val_loss: 0.1112 - val_accuracy: 1.0000\n",
      "Epoch 65/120\n",
      "3/3 [==============================] - 1s 187ms/step - loss: 0.1488 - accuracy: 0.9551 - val_loss: 0.0940 - val_accuracy: 1.0000\n",
      "Epoch 66/120\n",
      "3/3 [==============================] - 1s 177ms/step - loss: 0.1324 - accuracy: 1.0000 - val_loss: 0.0974 - val_accuracy: 1.0000\n",
      "Epoch 67/120\n",
      "3/3 [==============================] - 1s 177ms/step - loss: 0.1077 - accuracy: 1.0000 - val_loss: 0.0800 - val_accuracy: 1.0000\n",
      "Epoch 68/120\n",
      "3/3 [==============================] - 1s 193ms/step - loss: 0.0919 - accuracy: 1.0000 - val_loss: 0.0739 - val_accuracy: 1.0000\n",
      "Epoch 69/120\n",
      "3/3 [==============================] - 1s 192ms/step - loss: 0.0856 - accuracy: 1.0000 - val_loss: 0.0719 - val_accuracy: 1.0000\n",
      "Epoch 70/120\n",
      "3/3 [==============================] - 1s 176ms/step - loss: 0.0772 - accuracy: 1.0000 - val_loss: 0.0534 - val_accuracy: 1.0000\n",
      "Epoch 71/120\n",
      "3/3 [==============================] - 1s 178ms/step - loss: 0.0682 - accuracy: 1.0000 - val_loss: 0.0435 - val_accuracy: 1.0000\n",
      "Epoch 72/120\n",
      "3/3 [==============================] - 1s 173ms/step - loss: 0.0619 - accuracy: 1.0000 - val_loss: 0.0562 - val_accuracy: 1.0000\n",
      "Epoch 73/120\n",
      "3/3 [==============================] - 1s 171ms/step - loss: 0.0568 - accuracy: 1.0000 - val_loss: 0.0426 - val_accuracy: 1.0000\n",
      "Epoch 74/120\n",
      "3/3 [==============================] - 1s 179ms/step - loss: 0.0494 - accuracy: 1.0000 - val_loss: 0.0499 - val_accuracy: 1.0000\n",
      "Epoch 75/120\n",
      "3/3 [==============================] - 1s 183ms/step - loss: 0.0437 - accuracy: 1.0000 - val_loss: 0.0292 - val_accuracy: 1.0000\n",
      "Epoch 76/120\n",
      "3/3 [==============================] - 1s 183ms/step - loss: 0.0423 - accuracy: 1.0000 - val_loss: 0.0334 - val_accuracy: 1.0000\n",
      "Epoch 77/120\n",
      "3/3 [==============================] - 1s 171ms/step - loss: 0.0473 - accuracy: 0.9888 - val_loss: 0.0312 - val_accuracy: 1.0000\n",
      "Epoch 78/120\n",
      "3/3 [==============================] - 1s 189ms/step - loss: 0.0388 - accuracy: 1.0000 - val_loss: 0.0233 - val_accuracy: 1.0000\n",
      "Epoch 79/120\n",
      "3/3 [==============================] - 1s 191ms/step - loss: 0.0339 - accuracy: 1.0000 - val_loss: 0.0307 - val_accuracy: 1.0000\n",
      "Epoch 80/120\n",
      "3/3 [==============================] - 1s 172ms/step - loss: 0.0311 - accuracy: 1.0000 - val_loss: 0.0179 - val_accuracy: 1.0000\n",
      "Epoch 81/120\n",
      "3/3 [==============================] - 1s 175ms/step - loss: 0.0338 - accuracy: 1.0000 - val_loss: 0.0194 - val_accuracy: 1.0000\n",
      "Epoch 82/120\n",
      "3/3 [==============================] - 1s 178ms/step - loss: 0.0278 - accuracy: 1.0000 - val_loss: 0.0192 - val_accuracy: 1.0000\n",
      "Epoch 83/120\n",
      "3/3 [==============================] - 1s 179ms/step - loss: 0.0234 - accuracy: 1.0000 - val_loss: 0.0142 - val_accuracy: 1.0000\n",
      "Epoch 84/120\n",
      "3/3 [==============================] - 1s 176ms/step - loss: 0.0209 - accuracy: 1.0000 - val_loss: 0.0127 - val_accuracy: 1.0000\n",
      "Epoch 85/120\n",
      "3/3 [==============================] - 1s 176ms/step - loss: 0.0189 - accuracy: 1.0000 - val_loss: 0.0132 - val_accuracy: 1.0000\n",
      "Epoch 86/120\n",
      "3/3 [==============================] - 1s 199ms/step - loss: 0.0193 - accuracy: 1.0000 - val_loss: 0.0100 - val_accuracy: 1.0000\n",
      "Epoch 87/120\n",
      "3/3 [==============================] - 1s 195ms/step - loss: 0.0217 - accuracy: 1.0000 - val_loss: 0.0091 - val_accuracy: 1.0000\n",
      "Epoch 88/120\n",
      "3/3 [==============================] - 1s 178ms/step - loss: 0.0168 - accuracy: 1.0000 - val_loss: 0.0122 - val_accuracy: 1.0000\n",
      "Epoch 89/120\n",
      "3/3 [==============================] - 1s 173ms/step - loss: 0.0183 - accuracy: 1.0000 - val_loss: 0.0080 - val_accuracy: 1.0000\n",
      "Epoch 90/120\n",
      "3/3 [==============================] - 1s 175ms/step - loss: 0.0204 - accuracy: 1.0000 - val_loss: 0.0071 - val_accuracy: 1.0000\n",
      "Epoch 91/120\n",
      "3/3 [==============================] - 1s 194ms/step - loss: 0.0147 - accuracy: 1.0000 - val_loss: 0.0122 - val_accuracy: 1.0000\n",
      "Epoch 92/120\n",
      "3/3 [==============================] - 1s 189ms/step - loss: 0.0160 - accuracy: 1.0000 - val_loss: 0.0094 - val_accuracy: 1.0000\n",
      "Epoch 93/120\n",
      "3/3 [==============================] - 1s 176ms/step - loss: 0.0161 - accuracy: 1.0000 - val_loss: 0.0099 - val_accuracy: 1.0000\n",
      "Epoch 94/120\n",
      "3/3 [==============================] - 1s 171ms/step - loss: 0.0185 - accuracy: 1.0000 - val_loss: 0.0167 - val_accuracy: 1.0000\n",
      "Epoch 95/120\n",
      "3/3 [==============================] - 1s 181ms/step - loss: 0.0166 - accuracy: 1.0000 - val_loss: 0.0058 - val_accuracy: 1.0000\n",
      "Epoch 96/120\n",
      "3/3 [==============================] - 1s 188ms/step - loss: 0.0125 - accuracy: 1.0000 - val_loss: 0.0057 - val_accuracy: 1.0000\n",
      "Epoch 97/120\n",
      "3/3 [==============================] - 1s 172ms/step - loss: 0.0123 - accuracy: 1.0000 - val_loss: 0.0087 - val_accuracy: 1.0000\n",
      "Epoch 98/120\n",
      "3/3 [==============================] - 1s 171ms/step - loss: 0.0103 - accuracy: 1.0000 - val_loss: 0.0083 - val_accuracy: 1.0000\n",
      "Epoch 99/120\n",
      "3/3 [==============================] - 1s 171ms/step - loss: 0.0105 - accuracy: 1.0000 - val_loss: 0.0065 - val_accuracy: 1.0000\n",
      "Epoch 100/120\n",
      "3/3 [==============================] - 1s 171ms/step - loss: 0.0105 - accuracy: 1.0000 - val_loss: 0.0045 - val_accuracy: 1.0000\n",
      "Epoch 101/120\n",
      "3/3 [==============================] - 1s 171ms/step - loss: 0.0107 - accuracy: 1.0000 - val_loss: 0.0085 - val_accuracy: 1.0000\n",
      "Epoch 102/120\n",
      "3/3 [==============================] - 1s 171ms/step - loss: 0.0104 - accuracy: 1.0000 - val_loss: 0.0041 - val_accuracy: 1.0000\n",
      "Epoch 103/120\n",
      "3/3 [==============================] - 1s 189ms/step - loss: 0.0083 - accuracy: 1.0000 - val_loss: 0.0045 - val_accuracy: 1.0000\n",
      "Epoch 104/120\n",
      "3/3 [==============================] - 1s 210ms/step - loss: 0.0088 - accuracy: 1.0000 - val_loss: 0.0042 - val_accuracy: 1.0000\n",
      "Epoch 105/120\n",
      "3/3 [==============================] - 1s 182ms/step - loss: 0.0067 - accuracy: 1.0000 - val_loss: 0.0052 - val_accuracy: 1.0000\n",
      "Epoch 106/120\n",
      "3/3 [==============================] - 1s 178ms/step - loss: 0.0084 - accuracy: 1.0000 - val_loss: 0.0041 - val_accuracy: 1.0000\n",
      "Epoch 107/120\n",
      "3/3 [==============================] - 1s 184ms/step - loss: 0.0276 - accuracy: 0.9888 - val_loss: 0.0075 - val_accuracy: 1.0000\n",
      "Epoch 108/120\n",
      "3/3 [==============================] - 1s 187ms/step - loss: 0.0081 - accuracy: 1.0000 - val_loss: 0.0045 - val_accuracy: 1.0000\n",
      "Epoch 109/120\n",
      "3/3 [==============================] - 1s 183ms/step - loss: 0.0079 - accuracy: 1.0000 - val_loss: 0.0071 - val_accuracy: 1.0000\n",
      "Epoch 110/120\n",
      "3/3 [==============================] - 1s 184ms/step - loss: 0.0104 - accuracy: 1.0000 - val_loss: 0.0024 - val_accuracy: 1.0000\n",
      "Epoch 111/120\n",
      "3/3 [==============================] - 1s 170ms/step - loss: 0.0056 - accuracy: 1.0000 - val_loss: 0.0051 - val_accuracy: 1.0000\n",
      "Epoch 112/120\n",
      "3/3 [==============================] - 1s 202ms/step - loss: 0.0048 - accuracy: 1.0000 - val_loss: 0.0052 - val_accuracy: 1.0000\n",
      "Epoch 113/120\n",
      "3/3 [==============================] - 1s 185ms/step - loss: 0.0065 - accuracy: 1.0000 - val_loss: 0.0043 - val_accuracy: 1.0000\n",
      "Epoch 114/120\n",
      "3/3 [==============================] - 1s 171ms/step - loss: 0.0043 - accuracy: 1.0000 - val_loss: 0.0026 - val_accuracy: 1.0000\n",
      "Epoch 115/120\n",
      "3/3 [==============================] - 1s 185ms/step - loss: 0.0065 - accuracy: 1.0000 - val_loss: 0.0031 - val_accuracy: 1.0000\n",
      "Epoch 116/120\n",
      "3/3 [==============================] - 1s 174ms/step - loss: 0.0055 - accuracy: 1.0000 - val_loss: 0.0022 - val_accuracy: 1.0000\n",
      "Epoch 117/120\n",
      "3/3 [==============================] - 1s 171ms/step - loss: 0.0054 - accuracy: 1.0000 - val_loss: 0.0034 - val_accuracy: 1.0000\n",
      "Epoch 118/120\n",
      "3/3 [==============================] - 1s 184ms/step - loss: 0.0045 - accuracy: 1.0000 - val_loss: 0.0032 - val_accuracy: 1.0000\n",
      "Epoch 119/120\n",
      "3/3 [==============================] - 1s 174ms/step - loss: 0.0048 - accuracy: 1.0000 - val_loss: 0.0035 - val_accuracy: 1.0000\n",
      "Epoch 120/120\n",
      "3/3 [==============================] - 1s 171ms/step - loss: 0.0047 - accuracy: 1.0000 - val_loss: 0.0022 - val_accuracy: 1.0000\n"
     ]
    },
    {
     "data": {
      "text/plain": [
       "<tensorflow.python.keras.callbacks.History at 0x1b607f3ba20>"
      ]
     },
     "execution_count": 39,
     "metadata": {},
     "output_type": "execute_result"
    }
   ],
   "source": [
    "model.fit(\n",
    "    train_ds,\n",
    "    validation_data=val_ds,\n",
    "    epochs=120,\n",
    "    batch_size=32,\n",
    "    verbose=1,\n",
    "    workers=-1,\n",
    "    use_multiprocessing=True,\n",
    "    callbacks=[\n",
    "        TensorBoard(log_dir=\"../logs/\" + strftime(\"%Y%m%d-%H%M%S\", localtime()))\n",
    "    ]\n",
    ")"
   ]
  },
  {
   "cell_type": "code",
   "execution_count": null,
   "metadata": {},
   "outputs": [],
   "source": [
    "tensorboard --logdir ../logs"
   ]
  },
  {
   "cell_type": "code",
   "execution_count": 40,
   "metadata": {
    "ExecuteTime": {
     "end_time": "2021-10-18T06:30:24.175317Z",
     "start_time": "2021-10-18T06:30:23.374302Z"
    }
   },
   "outputs": [
    {
     "name": "stdout",
     "output_type": "stream",
     "text": [
      "INFO:tensorflow:Assets written to: ../models/pic_clf/1\\assets\n"
     ]
    }
   ],
   "source": [
    "save_model(model, \"home/centos/pic_clf/2\")      # save_model(model, \"../models/pic_clf/1\")"
   ]
  },
  {
   "cell_type": "markdown",
   "metadata": {},
   "source": [
    "<h3>部署模型并预测</h3>"
   ]
  },
  {
   "cell_type": "markdown",
   "metadata": {},
   "source": [
    "<h4>部署模型</h4>"
   ]
  },
  {
   "cell_type": "markdown",
   "metadata": {},
   "source": [
    "<h5>安装docker</h5>"
   ]
  },
  {
   "cell_type": "code",
   "execution_count": null,
   "metadata": {},
   "outputs": [],
   "source": [
    "!sudo yum install -y epel-release\n",
    "!sudo yum install https://get.docker.com/rpm/1.7.1/centos-6/RPMS/x86_64/docker-engine-1.7.1-1.el6.x86_64.rpm\n",
    "!docker version\n",
    "!sudo service docker start"
   ]
  },
  {
   "cell_type": "markdown",
   "metadata": {},
   "source": [
    "<h5>拉取镜像</h5>"
   ]
  },
  {
   "cell_type": "code",
   "execution_count": null,
   "metadata": {},
   "outputs": [],
   "source": [
    "!docker pull tensorflow/serving:2.3.0"
   ]
  },
  {
   "cell_type": "markdown",
   "metadata": {},
   "source": [
    "<h5>部署服务</h5>"
   ]
  },
  {
   "cell_type": "code",
   "execution_count": null,
   "metadata": {},
   "outputs": [],
   "source": [
    "!docker run -t \\\n",
    "    -p 8501:8501 \\\n",
    "    -v \"/home/centos/pic_clf:/models/pic_clf\" \\\n",
    "    -e MODEL_NAME=pic_clf \\\n",
    "    tensorflow/serving:2.3.0"
   ]
  },
  {
   "cell_type": "markdown",
   "metadata": {},
   "source": [
    "<h4>测试数据</h4>"
   ]
  },
  {
   "cell_type": "markdown",
   "metadata": {},
   "source": [
    "<h5>读取测试数据</h5>"
   ]
  },
  {
   "cell_type": "code",
   "execution_count": 42,
   "metadata": {
    "ExecuteTime": {
     "end_time": "2021-10-18T09:22:02.573210Z",
     "start_time": "2021-10-18T09:22:02.274803Z"
    }
   },
   "outputs": [
    {
     "name": "stdout",
     "output_type": "stream",
     "text": [
      "Found 63 files belonging to 2 classes.\n"
     ]
    }
   ],
   "source": [
    "x_test, y_test = list(image_dataset_from_directory(test_dir, image_size=(160, 160)))[1]"
   ]
  },
  {
   "cell_type": "code",
   "execution_count": 43,
   "metadata": {
    "ExecuteTime": {
     "end_time": "2021-10-18T09:22:04.187971Z",
     "start_time": "2021-10-18T09:22:04.178936Z"
    },
    "pycharm": {
     "name": "#%%\n"
    }
   },
   "outputs": [],
   "source": [
    "x_test = x_test.numpy()\n",
    "y_test = y_test.numpy()"
   ]
  },
  {
   "cell_type": "markdown",
   "metadata": {},
   "source": [
    "<h5>预测数据</h5>"
   ]
  },
  {
   "cell_type": "code",
   "execution_count": 47,
   "metadata": {
    "ExecuteTime": {
     "end_time": "2021-10-18T09:23:55.372994Z",
     "start_time": "2021-10-18T09:23:48.554946Z"
    }
   },
   "outputs": [],
   "source": [
    "data = json.dumps({\"instances\": x_test.tolist()})\n",
    "headers = {\"content-type\": \"application/json\"}\n",
    "response = requests.post(\n",
    "    url=\"http://81.70.8.71:8501/v1/models/pic_clf:predict\",\n",
    "    data=data,\n",
    "    headers=headers\n",
    ")\n",
    "if response.status_code != 200:\n",
    "    raise ValueError(response.text)"
   ]
  },
  {
   "cell_type": "code",
   "execution_count": 48,
   "metadata": {
    "ExecuteTime": {
     "end_time": "2021-10-18T09:23:57.709417Z",
     "start_time": "2021-10-18T09:23:57.704445Z"
    }
   },
   "outputs": [],
   "source": [
    "y_pred_prob = np.array(json.loads(response.text)[\"predictions\"])"
   ]
  },
  {
   "cell_type": "code",
   "execution_count": 49,
   "metadata": {
    "ExecuteTime": {
     "end_time": "2021-10-18T09:23:58.557566Z",
     "start_time": "2021-10-18T09:23:58.553572Z"
    }
   },
   "outputs": [],
   "source": [
    "y_pred = np.where(y_pred_prob > 0.5, 1, 0).ravel()"
   ]
  },
  {
   "cell_type": "code",
   "execution_count": 50,
   "metadata": {
    "ExecuteTime": {
     "end_time": "2021-10-18T09:23:59.887552Z",
     "start_time": "2021-10-18T09:23:59.881541Z"
    }
   },
   "outputs": [
    {
     "name": "stdout",
     "output_type": "stream",
     "text": [
      "              precision    recall  f1-score   support\n",
      "\n",
      "           0       1.00      1.00      1.00         9\n",
      "           1       1.00      1.00      1.00        22\n",
      "\n",
      "    accuracy                           1.00        31\n",
      "   macro avg       1.00      1.00      1.00        31\n",
      "weighted avg       1.00      1.00      1.00        31\n",
      "\n"
     ]
    }
   ],
   "source": [
    "print(classification_report(y_test, y_pred))"
   ]
  },
  {
   "cell_type": "code",
   "execution_count": null,
   "metadata": {},
   "outputs": [],
   "source": []
  }
 ],
 "metadata": {
  "kernelspec": {
   "display_name": "Python 3",
   "language": "python",
   "name": "python3"
  },
  "language_info": {
   "codemirror_mode": {
    "name": "ipython",
    "version": 3
   },
   "file_extension": ".py",
   "mimetype": "text/x-python",
   "name": "python",
   "nbconvert_exporter": "python",
   "pygments_lexer": "ipython3",
   "version": "3.7.3"
  },
  "toc": {
   "base_numbering": 1,
   "nav_menu": {},
   "number_sections": true,
   "sideBar": true,
   "skip_h1_title": false,
   "title_cell": "Table of Contents",
   "title_sidebar": "Contents",
   "toc_cell": false,
   "toc_position": {},
   "toc_section_display": true,
   "toc_window_display": true
  },
  "varInspector": {
   "cols": {
    "lenName": 16,
    "lenType": 16,
    "lenVar": 40
   },
   "kernels_config": {
    "python": {
     "delete_cmd_postfix": "",
     "delete_cmd_prefix": "del ",
     "library": "var_list.py",
     "varRefreshCmd": "print(var_dic_list())"
    },
    "r": {
     "delete_cmd_postfix": ") ",
     "delete_cmd_prefix": "rm(",
     "library": "var_list.r",
     "varRefreshCmd": "cat(var_dic_list()) "
    }
   },
   "types_to_exclude": [
    "module",
    "function",
    "builtin_function_or_method",
    "instance",
    "_Feature"
   ],
   "window_display": true
  }
 },
 "nbformat": 4,
 "nbformat_minor": 4
}
