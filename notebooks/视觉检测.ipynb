{
 "cells": [
  {
   "cell_type": "markdown",
   "metadata": {},
   "source": [
    "<h3>准备</h3>"
   ]
  },
  {
   "cell_type": "markdown",
   "metadata": {},
   "source": [
    "<h4>导入包</h4>"
   ]
  },
  {
   "cell_type": "code",
   "execution_count": 2,
   "metadata": {
    "ExecuteTime": {
     "end_time": "2021-10-18T14:10:56.953165Z",
     "start_time": "2021-10-18T14:10:56.639054Z"
    }
   },
   "outputs": [],
   "source": [
    "import os\n",
    "import json\n",
    "import requests\n",
    "from time import localtime, strftime\n",
    "from typing import Optional, Union\n",
    "from PIL.Image import Image, open, fromarray\n",
    "from PIL.ImageFilter import FIND_EDGES\n",
    "import numpy as np\n",
    "import tensorflow as tf\n",
    "from tensorflow import Tensor\n",
    "from tensorflow.keras.models import Sequential, save_model, load_model\n",
    "from tensorflow.keras.layers import Dense, Conv2D, MaxPool2D, Dropout, LeakyReLU, Flatten, Lambda\n",
    "from tensorflow.keras.layers.experimental.preprocessing import Resizing, Rescaling\n",
    "from tensorflow.keras.losses import BinaryCrossentropy, SparseCategoricalCrossentropy\n",
    "from tensorflow.keras.optimizers import Adam, RMSprop, SGD\n",
    "from tensorflow.keras.callbacks import History, Callback, TensorBoard, EarlyStopping\n",
    "from tensorflow.keras.preprocessing import image_dataset_from_directory\n",
    "from tensorflow.keras.preprocessing.image import ImageDataGenerator\n",
    "from tensorflow.keras.backend import clear_session\n",
    "from sklearn.metrics import classification_report"
   ]
  },
  {
   "cell_type": "markdown",
   "metadata": {},
   "source": [
    "<h4>设置tensorflow</h4>"
   ]
  },
  {
   "cell_type": "code",
   "execution_count": 3,
   "metadata": {
    "ExecuteTime": {
     "end_time": "2021-10-18T14:11:01.628853Z",
     "start_time": "2021-10-18T14:11:01.502666Z"
    }
   },
   "outputs": [],
   "source": [
    "tf.compat.v1.enable_eager_execution()\n",
    "for gpu in tf.config.experimental.list_physical_devices(\"GPU\"):\n",
    "    tf.config.experimental.set_memory_growth(gpu, True)"
   ]
  },
  {
   "cell_type": "markdown",
   "metadata": {},
   "source": [
    "<h3>准备数据</h3>"
   ]
  },
  {
   "cell_type": "code",
   "execution_count": 4,
   "metadata": {
    "ExecuteTime": {
     "end_time": "2021-10-18T14:11:05.953317Z",
     "start_time": "2021-10-18T14:11:05.950352Z"
    }
   },
   "outputs": [],
   "source": [
    "train_dir = os.path.join(\"../data/pic/\", \"train\")\n",
    "test_dir = os.path.join(\"../data/pic/\", \"test\")"
   ]
  },
  {
   "cell_type": "markdown",
   "metadata": {},
   "source": [
    "<h4>边缘检测</h4>"
   ]
  },
  {
   "cell_type": "code",
   "execution_count": 5,
   "metadata": {
    "ExecuteTime": {
     "end_time": "2021-10-18T14:11:06.570350Z",
     "start_time": "2021-10-18T14:11:06.565320Z"
    }
   },
   "outputs": [],
   "source": [
    "def find_edges(img: Union[np.ndarray, Image]) -> np.ndarray:\n",
    "    \"\"\"\n",
    "    图片边缘检测\\n\n",
    "    :param img: 一张图片\n",
    "    :return: 边缘检测后的图片\n",
    "    \"\"\"\n",
    "    if isinstance(img, np.ndarray):\n",
    "        image: Image = fromarray(img.astype(np.uint8))\n",
    "    else:\n",
    "        image: Image = img\n",
    "    return np.array(image.filter(FIND_EDGES)).astype(\"float\")"
   ]
  },
  {
   "cell_type": "markdown",
   "metadata": {},
   "source": [
    "<h4>数据预处理</h4>"
   ]
  },
  {
   "cell_type": "code",
   "execution_count": 6,
   "metadata": {
    "ExecuteTime": {
     "end_time": "2021-10-18T14:11:11.643181Z",
     "start_time": "2021-10-18T14:11:11.638186Z"
    }
   },
   "outputs": [],
   "source": [
    "train_gen = ImageDataGenerator(\n",
    "    horizontal_flip=True,\n",
    "    vertical_flip=True,\n",
    "    rotation_range=360,\n",
    "    width_shift_range=0.03,\n",
    "    height_shift_range=0.03,\n",
    "    fill_mode='nearest',\n",
    "    validation_split=0.2\n",
    ")\n",
    "val_gen = ImageDataGenerator(\n",
    "    validation_split=0.2\n",
    ")"
   ]
  },
  {
   "cell_type": "code",
   "execution_count": 7,
   "metadata": {
    "ExecuteTime": {
     "end_time": "2021-10-18T14:11:12.982303Z",
     "start_time": "2021-10-18T14:11:12.743157Z"
    }
   },
   "outputs": [
    {
     "name": "stdout",
     "output_type": "stream",
     "text": [
      "Found 89 images belonging to 2 classes.\n",
      "Found 21 images belonging to 2 classes.\n"
     ]
    }
   ],
   "source": [
    "train_ds = train_gen.flow_from_directory(\n",
    "    train_dir,\n",
    "    target_size=(160, 160),\n",
    "    color_mode='rgb',\n",
    "    class_mode='binary',\n",
    "    batch_size=32,\n",
    "    shuffle=True,\n",
    "    seed=123,\n",
    "    subset=\"training\"\n",
    ")\n",
    "val_ds = train_gen.flow_from_directory(\n",
    "    train_dir,\n",
    "    target_size=(160, 160),\n",
    "    color_mode='rgb',\n",
    "    class_mode='binary',\n",
    "    batch_size=32,\n",
    "    shuffle=True,\n",
    "    seed=123,\n",
    "    subset=\"validation\"\n",
    ")"
   ]
  },
  {
   "cell_type": "markdown",
   "metadata": {},
   "source": [
    "<h3>搭建模型并训练</h3>"
   ]
  },
  {
   "cell_type": "markdown",
   "metadata": {},
   "source": [
    "<h4>搭建模型</h4>"
   ]
  },
  {
   "cell_type": "code",
   "execution_count": 8,
   "metadata": {
    "ExecuteTime": {
     "end_time": "2021-10-18T14:12:46.427858Z",
     "start_time": "2021-10-18T14:12:45.563826Z"
    }
   },
   "outputs": [
    {
     "name": "stdout",
     "output_type": "stream",
     "text": [
      "Model: \"pic_clf\"\n",
      "_________________________________________________________________\n",
      "Layer (type)                 Output Shape              Param #   \n",
      "=================================================================\n",
      "resize (Resizing)            (None, 160, 160, 3)       0         \n",
      "_________________________________________________________________\n",
      "rescale (Rescaling)          (None, 160, 160, 3)       0         \n",
      "_________________________________________________________________\n",
      "conv2d1 (Conv2D)             (None, 158, 158, 32)      896       \n",
      "_________________________________________________________________\n",
      "maxpool2d_1 (MaxPooling2D)   (None, 79, 79, 32)        0         \n",
      "_________________________________________________________________\n",
      "conv2d2 (Conv2D)             (None, 77, 77, 64)        18496     \n",
      "_________________________________________________________________\n",
      "maxpool2d_2 (MaxPooling2D)   (None, 38, 38, 64)        0         \n",
      "_________________________________________________________________\n",
      "conv2d3 (Conv2D)             (None, 36, 36, 128)       73856     \n",
      "_________________________________________________________________\n",
      "maxpool2d_3 (MaxPooling2D)   (None, 18, 18, 128)       0         \n",
      "_________________________________________________________________\n",
      "conv2d4 (Conv2D)             (None, 16, 16, 32)        36896     \n",
      "_________________________________________________________________\n",
      "maxpool2d_4 (MaxPooling2D)   (None, 8, 8, 32)          0         \n",
      "_________________________________________________________________\n",
      "conv2d5 (Conv2D)             (None, 6, 6, 16)          4624      \n",
      "_________________________________________________________________\n",
      "maxpool2d_5 (MaxPooling2D)   (None, 3, 3, 16)          0         \n",
      "_________________________________________________________________\n",
      "flatten_6 (Flatten)          (None, 144)               0         \n",
      "_________________________________________________________________\n",
      "dense_6 (Dense)              (None, 16)                2320      \n",
      "_________________________________________________________________\n",
      "dense_7 (Dense)              (None, 2)                 34        \n",
      "=================================================================\n",
      "Total params: 137,122\n",
      "Trainable params: 137,122\n",
      "Non-trainable params: 0\n",
      "_________________________________________________________________\n"
     ]
    }
   ],
   "source": [
    "clear_session()\n",
    "model = Sequential([\n",
    "    Resizing(160, 160, name=\"resize\", input_shape=(160, 160, 3)),\n",
    "    Rescaling(1.0 / 255, name=\"rescale\"),\n",
    "    Conv2D(filters=32, kernel_size=(3, 3), data_format=\"channels_last\", activation=\"relu\", name=\"conv2d1\"),\n",
    "    MaxPool2D(pool_size=(2, 2), name=\"maxpool2d_1\"),\n",
    "    Conv2D(filters=64, kernel_size=(3, 3), data_format=\"channels_last\", activation=\"relu\", name=\"conv2d2\"),\n",
    "    MaxPool2D(pool_size=(2, 2), name=\"maxpool2d_2\"),\n",
    "    Conv2D(filters=128, kernel_size=(3, 3), data_format=\"channels_last\", activation=\"relu\", name=\"conv2d3\"),\n",
    "    MaxPool2D(pool_size=(2, 2), name=\"maxpool2d_3\"),\n",
    "    Conv2D(filters=32, kernel_size=(3, 3), data_format=\"channels_last\", activation=\"relu\", name=\"conv2d4\"),\n",
    "    MaxPool2D(pool_size=(2, 2), name=\"maxpool2d_4\"),\n",
    "    Conv2D(filters=16, kernel_size=(3, 3), data_format=\"channels_last\", activation=\"relu\", name=\"conv2d5\"),\n",
    "    MaxPool2D(pool_size=(2, 2), name=\"maxpool2d_5\"),\n",
    "    Flatten(data_format=\"channels_last\", name=\"flatten_6\"),\n",
    "    Dense(units=16, activation=\"relu\", name=\"dense_6\"),\n",
    "    Dense(units=2, activation=\"sigmoid\", name=\"dense_7\")\n",
    "], name=\"pic_clf\")\n",
    "model.compile(\n",
    "    loss=SparseCategoricalCrossentropy(from_logits=True),\n",
    "    optimizer=Adam(learning_rate=1e-4),\n",
    "    metrics=[\"accuracy\"]\n",
    ")\n",
    "model.summary()"
   ]
  },
  {
   "cell_type": "markdown",
   "metadata": {},
   "source": [
    "<h4>模型训练</h4>"
   ]
  },
  {
   "cell_type": "code",
   "execution_count": 9,
   "metadata": {
    "ExecuteTime": {
     "end_time": "2021-10-18T14:16:18.279900Z",
     "start_time": "2021-10-18T14:14:44.975987Z"
    }
   },
   "outputs": [
    {
     "name": "stdout",
     "output_type": "stream",
     "text": [
      "Epoch 1/120\n",
      "1/3 [=========>....................] - ETA: 0s - loss: 0.6894 - accuracy: 0.8800WARNING:tensorflow:From c:\\users\\drzon\\appdata\\local\\programs\\python\\python37\\lib\\site-packages\\tensorflow\\python\\ops\\summary_ops_v2.py:1277: stop (from tensorflow.python.eager.profiler) is deprecated and will be removed after 2020-07-01.\n",
      "Instructions for updating:\n",
      "use `tf.profiler.experimental.stop` instead.\n",
      "3/3 [==============================] - 1s 458ms/step - loss: 0.6878 - accuracy: 0.7191 - val_loss: 0.6777 - val_accuracy: 0.7143\n",
      "Epoch 2/120\n",
      "3/3 [==============================] - 1s 191ms/step - loss: 0.6746 - accuracy: 0.7191 - val_loss: 0.6667 - val_accuracy: 0.7143\n",
      "Epoch 3/120\n",
      "3/3 [==============================] - 1s 191ms/step - loss: 0.6627 - accuracy: 0.7191 - val_loss: 0.6561 - val_accuracy: 0.7143\n",
      "Epoch 4/120\n",
      "3/3 [==============================] - 1s 215ms/step - loss: 0.6510 - accuracy: 0.7191 - val_loss: 0.6435 - val_accuracy: 0.7143\n",
      "Epoch 5/120\n",
      "3/3 [==============================] - 1s 189ms/step - loss: 0.6407 - accuracy: 0.7191 - val_loss: 0.6324 - val_accuracy: 0.7143\n",
      "Epoch 6/120\n",
      "3/3 [==============================] - 1s 202ms/step - loss: 0.6274 - accuracy: 0.7191 - val_loss: 0.6229 - val_accuracy: 0.7143\n",
      "Epoch 7/120\n",
      "3/3 [==============================] - 1s 196ms/step - loss: 0.6168 - accuracy: 0.7191 - val_loss: 0.6139 - val_accuracy: 0.7143\n",
      "Epoch 8/120\n",
      "3/3 [==============================] - 1s 184ms/step - loss: 0.6092 - accuracy: 0.7191 - val_loss: 0.6068 - val_accuracy: 0.7143\n",
      "Epoch 9/120\n",
      "3/3 [==============================] - 1s 172ms/step - loss: 0.6024 - accuracy: 0.7191 - val_loss: 0.6023 - val_accuracy: 0.7143\n",
      "Epoch 10/120\n",
      "3/3 [==============================] - 1s 172ms/step - loss: 0.5984 - accuracy: 0.7191 - val_loss: 0.6000 - val_accuracy: 0.7143\n",
      "Epoch 11/120\n",
      "3/3 [==============================] - 1s 192ms/step - loss: 0.5953 - accuracy: 0.7191 - val_loss: 0.5983 - val_accuracy: 0.7143\n",
      "Epoch 12/120\n",
      "3/3 [==============================] - 1s 182ms/step - loss: 0.5942 - accuracy: 0.7191 - val_loss: 0.5976 - val_accuracy: 0.7143\n",
      "Epoch 13/120\n",
      "3/3 [==============================] - 1s 181ms/step - loss: 0.5934 - accuracy: 0.7191 - val_loss: 0.5978 - val_accuracy: 0.7143\n",
      "Epoch 14/120\n",
      "3/3 [==============================] - 1s 186ms/step - loss: 0.5932 - accuracy: 0.7191 - val_loss: 0.5976 - val_accuracy: 0.7143\n",
      "Epoch 15/120\n",
      "3/3 [==============================] - 1s 171ms/step - loss: 0.5930 - accuracy: 0.7191 - val_loss: 0.5975 - val_accuracy: 0.7143\n",
      "Epoch 16/120\n",
      "3/3 [==============================] - 1s 175ms/step - loss: 0.5934 - accuracy: 0.7191 - val_loss: 0.5978 - val_accuracy: 0.7143\n",
      "Epoch 17/120\n",
      "3/3 [==============================] - 1s 176ms/step - loss: 0.5931 - accuracy: 0.7191 - val_loss: 0.5976 - val_accuracy: 0.7143\n",
      "Epoch 18/120\n",
      "3/3 [==============================] - 1s 176ms/step - loss: 0.5931 - accuracy: 0.7191 - val_loss: 0.5977 - val_accuracy: 0.7143\n",
      "Epoch 19/120\n",
      "3/3 [==============================] - 1s 203ms/step - loss: 0.5933 - accuracy: 0.7191 - val_loss: 0.5974 - val_accuracy: 0.7143\n",
      "Epoch 20/120\n",
      "3/3 [==============================] - 1s 175ms/step - loss: 0.5931 - accuracy: 0.7191 - val_loss: 0.5976 - val_accuracy: 0.7143\n",
      "Epoch 21/120\n",
      "3/3 [==============================] - 1s 173ms/step - loss: 0.5931 - accuracy: 0.7191 - val_loss: 0.5975 - val_accuracy: 0.7143\n",
      "Epoch 22/120\n",
      "3/3 [==============================] - 1s 192ms/step - loss: 0.5931 - accuracy: 0.7191 - val_loss: 0.5979 - val_accuracy: 0.7143\n",
      "Epoch 23/120\n",
      "3/3 [==============================] - 1s 181ms/step - loss: 0.5930 - accuracy: 0.7191 - val_loss: 0.5975 - val_accuracy: 0.7143\n",
      "Epoch 24/120\n",
      "3/3 [==============================] - 1s 180ms/step - loss: 0.5930 - accuracy: 0.7191 - val_loss: 0.5975 - val_accuracy: 0.7143\n",
      "Epoch 25/120\n",
      "3/3 [==============================] - 1s 185ms/step - loss: 0.5930 - accuracy: 0.7191 - val_loss: 0.5972 - val_accuracy: 0.7143\n",
      "Epoch 26/120\n",
      "3/3 [==============================] - 1s 196ms/step - loss: 0.5928 - accuracy: 0.7191 - val_loss: 0.5971 - val_accuracy: 0.7143\n",
      "Epoch 27/120\n",
      "3/3 [==============================] - 1s 173ms/step - loss: 0.5927 - accuracy: 0.7191 - val_loss: 0.5968 - val_accuracy: 0.7143\n",
      "Epoch 28/120\n",
      "3/3 [==============================] - 1s 200ms/step - loss: 0.5926 - accuracy: 0.7191 - val_loss: 0.5969 - val_accuracy: 0.7143\n",
      "Epoch 29/120\n",
      "3/3 [==============================] - 1s 210ms/step - loss: 0.5928 - accuracy: 0.7191 - val_loss: 0.5970 - val_accuracy: 0.7143\n",
      "Epoch 30/120\n",
      "3/3 [==============================] - 1s 189ms/step - loss: 0.5925 - accuracy: 0.7191 - val_loss: 0.5968 - val_accuracy: 0.7143\n",
      "Epoch 31/120\n",
      "3/3 [==============================] - 1s 176ms/step - loss: 0.5924 - accuracy: 0.7191 - val_loss: 0.5964 - val_accuracy: 0.7143\n",
      "Epoch 32/120\n",
      "3/3 [==============================] - 1s 173ms/step - loss: 0.5922 - accuracy: 0.7191 - val_loss: 0.5960 - val_accuracy: 0.7143\n",
      "Epoch 33/120\n",
      "3/3 [==============================] - 1s 190ms/step - loss: 0.5920 - accuracy: 0.7191 - val_loss: 0.5956 - val_accuracy: 0.7143\n",
      "Epoch 34/120\n",
      "3/3 [==============================] - 1s 190ms/step - loss: 0.5920 - accuracy: 0.7191 - val_loss: 0.5958 - val_accuracy: 0.7143\n",
      "Epoch 35/120\n",
      "3/3 [==============================] - 1s 185ms/step - loss: 0.5918 - accuracy: 0.7191 - val_loss: 0.5951 - val_accuracy: 0.7143\n",
      "Epoch 36/120\n",
      "3/3 [==============================] - 1s 185ms/step - loss: 0.5915 - accuracy: 0.7191 - val_loss: 0.5952 - val_accuracy: 0.7143\n",
      "Epoch 37/120\n",
      "3/3 [==============================] - 1s 188ms/step - loss: 0.5913 - accuracy: 0.7191 - val_loss: 0.5950 - val_accuracy: 0.7143\n",
      "Epoch 38/120\n",
      "3/3 [==============================] - 1s 185ms/step - loss: 0.5910 - accuracy: 0.7191 - val_loss: 0.5946 - val_accuracy: 0.7143\n",
      "Epoch 39/120\n",
      "3/3 [==============================] - 1s 188ms/step - loss: 0.5909 - accuracy: 0.7191 - val_loss: 0.5945 - val_accuracy: 0.7143\n",
      "Epoch 40/120\n",
      "3/3 [==============================] - 1s 185ms/step - loss: 0.5904 - accuracy: 0.7191 - val_loss: 0.5942 - val_accuracy: 0.7143\n",
      "Epoch 41/120\n",
      "3/3 [==============================] - 1s 203ms/step - loss: 0.5899 - accuracy: 0.7191 - val_loss: 0.5940 - val_accuracy: 0.7143\n",
      "Epoch 42/120\n",
      "3/3 [==============================] - 1s 191ms/step - loss: 0.5901 - accuracy: 0.7191 - val_loss: 0.5932 - val_accuracy: 0.7143\n",
      "Epoch 43/120\n",
      "3/3 [==============================] - 1s 172ms/step - loss: 0.5892 - accuracy: 0.7191 - val_loss: 0.5928 - val_accuracy: 0.7143\n",
      "Epoch 44/120\n",
      "3/3 [==============================] - 1s 179ms/step - loss: 0.5890 - accuracy: 0.7191 - val_loss: 0.5917 - val_accuracy: 0.7143\n",
      "Epoch 45/120\n",
      "3/3 [==============================] - 1s 173ms/step - loss: 0.5884 - accuracy: 0.7191 - val_loss: 0.5905 - val_accuracy: 0.7143\n",
      "Epoch 46/120\n",
      "3/3 [==============================] - 1s 187ms/step - loss: 0.5877 - accuracy: 0.7191 - val_loss: 0.5896 - val_accuracy: 0.7143\n",
      "Epoch 47/120\n",
      "3/3 [==============================] - 1s 174ms/step - loss: 0.5864 - accuracy: 0.7191 - val_loss: 0.5881 - val_accuracy: 0.7143\n",
      "Epoch 48/120\n",
      "3/3 [==============================] - 1s 185ms/step - loss: 0.5859 - accuracy: 0.7191 - val_loss: 0.5882 - val_accuracy: 0.7143\n",
      "Epoch 49/120\n",
      "3/3 [==============================] - 1s 174ms/step - loss: 0.5849 - accuracy: 0.7191 - val_loss: 0.5858 - val_accuracy: 0.7143\n",
      "Epoch 50/120\n",
      "3/3 [==============================] - 1s 176ms/step - loss: 0.5833 - accuracy: 0.7191 - val_loss: 0.5842 - val_accuracy: 0.7143\n",
      "Epoch 51/120\n",
      "3/3 [==============================] - 1s 179ms/step - loss: 0.5826 - accuracy: 0.7191 - val_loss: 0.5811 - val_accuracy: 0.7143\n",
      "Epoch 52/120\n",
      "3/3 [==============================] - 1s 180ms/step - loss: 0.5806 - accuracy: 0.7191 - val_loss: 0.5799 - val_accuracy: 0.7143\n",
      "Epoch 53/120\n",
      "3/3 [==============================] - 1s 180ms/step - loss: 0.5811 - accuracy: 0.7191 - val_loss: 0.5783 - val_accuracy: 0.7143\n",
      "Epoch 54/120\n",
      "3/3 [==============================] - 1s 185ms/step - loss: 0.5773 - accuracy: 0.7191 - val_loss: 0.5756 - val_accuracy: 0.7143\n",
      "Epoch 55/120\n",
      "3/3 [==============================] - 1s 194ms/step - loss: 0.5752 - accuracy: 0.7191 - val_loss: 0.5706 - val_accuracy: 0.7143\n",
      "Epoch 56/120\n"
     ]
    },
    {
     "name": "stdout",
     "output_type": "stream",
     "text": [
      "3/3 [==============================] - 1s 194ms/step - loss: 0.5743 - accuracy: 0.7191 - val_loss: 0.5685 - val_accuracy: 0.7143\n",
      "Epoch 57/120\n",
      "3/3 [==============================] - 1s 205ms/step - loss: 0.5688 - accuracy: 0.7191 - val_loss: 0.5664 - val_accuracy: 0.7143\n",
      "Epoch 58/120\n",
      "3/3 [==============================] - 1s 201ms/step - loss: 0.5652 - accuracy: 0.7191 - val_loss: 0.5619 - val_accuracy: 0.7143\n",
      "Epoch 59/120\n",
      "3/3 [==============================] - 1s 187ms/step - loss: 0.5626 - accuracy: 0.7191 - val_loss: 0.5548 - val_accuracy: 0.7143\n",
      "Epoch 60/120\n",
      "3/3 [==============================] - 1s 194ms/step - loss: 0.5584 - accuracy: 0.7191 - val_loss: 0.5539 - val_accuracy: 0.7143\n",
      "Epoch 61/120\n",
      "3/3 [==============================] - 1s 191ms/step - loss: 0.5535 - accuracy: 0.7191 - val_loss: 0.5504 - val_accuracy: 0.7143\n",
      "Epoch 62/120\n",
      "3/3 [==============================] - 1s 175ms/step - loss: 0.5516 - accuracy: 0.7191 - val_loss: 0.5403 - val_accuracy: 0.7143\n",
      "Epoch 63/120\n",
      "3/3 [==============================] - 1s 181ms/step - loss: 0.5459 - accuracy: 0.7191 - val_loss: 0.5382 - val_accuracy: 0.7143\n",
      "Epoch 64/120\n",
      "3/3 [==============================] - 1s 182ms/step - loss: 0.5414 - accuracy: 0.7191 - val_loss: 0.5324 - val_accuracy: 0.7143\n",
      "Epoch 65/120\n",
      "3/3 [==============================] - 1s 184ms/step - loss: 0.5368 - accuracy: 0.7191 - val_loss: 0.5244 - val_accuracy: 0.7143\n",
      "Epoch 66/120\n",
      "3/3 [==============================] - 1s 176ms/step - loss: 0.5312 - accuracy: 0.7191 - val_loss: 0.5222 - val_accuracy: 0.7143\n",
      "Epoch 67/120\n",
      "3/3 [==============================] - 1s 174ms/step - loss: 0.5167 - accuracy: 0.7191 - val_loss: 0.5107 - val_accuracy: 0.7143\n",
      "Epoch 68/120\n",
      "3/3 [==============================] - 1s 195ms/step - loss: 0.5120 - accuracy: 0.7191 - val_loss: 0.4983 - val_accuracy: 0.7143\n",
      "Epoch 69/120\n",
      "3/3 [==============================] - 1s 179ms/step - loss: 0.5010 - accuracy: 0.7191 - val_loss: 0.4915 - val_accuracy: 0.7143\n",
      "Epoch 70/120\n",
      "3/3 [==============================] - 1s 202ms/step - loss: 0.4928 - accuracy: 0.7191 - val_loss: 0.4851 - val_accuracy: 0.7143\n",
      "Epoch 71/120\n",
      "3/3 [==============================] - 1s 204ms/step - loss: 0.4917 - accuracy: 0.7191 - val_loss: 0.4697 - val_accuracy: 0.7143\n",
      "Epoch 72/120\n",
      "3/3 [==============================] - 1s 180ms/step - loss: 0.4789 - accuracy: 0.7303 - val_loss: 0.4628 - val_accuracy: 0.8095\n",
      "Epoch 73/120\n",
      "3/3 [==============================] - 1s 177ms/step - loss: 0.4691 - accuracy: 0.7753 - val_loss: 0.4531 - val_accuracy: 0.8095\n",
      "Epoch 74/120\n",
      "3/3 [==============================] - 1s 179ms/step - loss: 0.4591 - accuracy: 0.8315 - val_loss: 0.4522 - val_accuracy: 0.9048\n",
      "Epoch 75/120\n",
      "3/3 [==============================] - 1s 190ms/step - loss: 0.4476 - accuracy: 0.9213 - val_loss: 0.4273 - val_accuracy: 1.0000\n",
      "Epoch 76/120\n",
      "3/3 [==============================] - 1s 188ms/step - loss: 0.4430 - accuracy: 0.8764 - val_loss: 0.4257 - val_accuracy: 0.8571\n",
      "Epoch 77/120\n",
      "3/3 [==============================] - 1s 210ms/step - loss: 0.4267 - accuracy: 0.9551 - val_loss: 0.4160 - val_accuracy: 1.0000\n",
      "Epoch 78/120\n",
      "3/3 [==============================] - 1s 184ms/step - loss: 0.4111 - accuracy: 0.9775 - val_loss: 0.3991 - val_accuracy: 1.0000\n",
      "Epoch 79/120\n",
      "3/3 [==============================] - 1s 181ms/step - loss: 0.4073 - accuracy: 0.9438 - val_loss: 0.3864 - val_accuracy: 1.0000\n",
      "Epoch 80/120\n",
      "3/3 [==============================] - 1s 183ms/step - loss: 0.3932 - accuracy: 0.9888 - val_loss: 0.3756 - val_accuracy: 1.0000\n",
      "Epoch 81/120\n",
      "3/3 [==============================] - 1s 183ms/step - loss: 0.3823 - accuracy: 0.9663 - val_loss: 0.3742 - val_accuracy: 1.0000\n",
      "Epoch 82/120\n",
      "3/3 [==============================] - 1s 181ms/step - loss: 0.3709 - accuracy: 0.9888 - val_loss: 0.3611 - val_accuracy: 1.0000\n",
      "Epoch 83/120\n",
      "3/3 [==============================] - 1s 187ms/step - loss: 0.3591 - accuracy: 1.0000 - val_loss: 0.3530 - val_accuracy: 1.0000\n",
      "Epoch 84/120\n",
      "3/3 [==============================] - 1s 178ms/step - loss: 0.3565 - accuracy: 1.0000 - val_loss: 0.3454 - val_accuracy: 1.0000\n",
      "Epoch 85/120\n",
      "3/3 [==============================] - 1s 179ms/step - loss: 0.3505 - accuracy: 1.0000 - val_loss: 0.3384 - val_accuracy: 1.0000\n",
      "Epoch 86/120\n",
      "3/3 [==============================] - 1s 185ms/step - loss: 0.3417 - accuracy: 0.9888 - val_loss: 0.3350 - val_accuracy: 1.0000\n",
      "Epoch 87/120\n",
      "3/3 [==============================] - 1s 190ms/step - loss: 0.3425 - accuracy: 1.0000 - val_loss: 0.3421 - val_accuracy: 1.0000\n",
      "Epoch 88/120\n",
      "3/3 [==============================] - 1s 189ms/step - loss: 0.3397 - accuracy: 1.0000 - val_loss: 0.3307 - val_accuracy: 1.0000\n",
      "Epoch 89/120\n",
      "3/3 [==============================] - 1s 179ms/step - loss: 0.3363 - accuracy: 1.0000 - val_loss: 0.3280 - val_accuracy: 1.0000\n",
      "Epoch 90/120\n",
      "3/3 [==============================] - 1s 189ms/step - loss: 0.3285 - accuracy: 1.0000 - val_loss: 0.3321 - val_accuracy: 1.0000\n",
      "Epoch 91/120\n",
      "3/3 [==============================] - 1s 180ms/step - loss: 0.3302 - accuracy: 1.0000 - val_loss: 0.3257 - val_accuracy: 1.0000\n",
      "Epoch 92/120\n",
      "3/3 [==============================] - 1s 192ms/step - loss: 0.3299 - accuracy: 0.9888 - val_loss: 0.3183 - val_accuracy: 1.0000\n",
      "Epoch 93/120\n",
      "3/3 [==============================] - 1s 197ms/step - loss: 0.3267 - accuracy: 1.0000 - val_loss: 0.3242 - val_accuracy: 1.0000\n",
      "Epoch 94/120\n",
      "3/3 [==============================] - 1s 193ms/step - loss: 0.3258 - accuracy: 1.0000 - val_loss: 0.3214 - val_accuracy: 1.0000\n",
      "Epoch 95/120\n",
      "3/3 [==============================] - 1s 175ms/step - loss: 0.3235 - accuracy: 1.0000 - val_loss: 0.3183 - val_accuracy: 1.0000\n",
      "Epoch 96/120\n",
      "3/3 [==============================] - 1s 175ms/step - loss: 0.3235 - accuracy: 1.0000 - val_loss: 0.3196 - val_accuracy: 1.0000\n",
      "Epoch 97/120\n",
      "3/3 [==============================] - 1s 174ms/step - loss: 0.3198 - accuracy: 1.0000 - val_loss: 0.3263 - val_accuracy: 1.0000\n",
      "Epoch 98/120\n",
      "3/3 [==============================] - 1s 191ms/step - loss: 0.3262 - accuracy: 1.0000 - val_loss: 0.3226 - val_accuracy: 1.0000\n",
      "Epoch 99/120\n",
      "3/3 [==============================] - 1s 204ms/step - loss: 0.3193 - accuracy: 1.0000 - val_loss: 0.3193 - val_accuracy: 1.0000\n",
      "Epoch 100/120\n",
      "3/3 [==============================] - 1s 189ms/step - loss: 0.3250 - accuracy: 1.0000 - val_loss: 0.3160 - val_accuracy: 1.0000\n",
      "Epoch 101/120\n",
      "3/3 [==============================] - 1s 176ms/step - loss: 0.3218 - accuracy: 1.0000 - val_loss: 0.3184 - val_accuracy: 1.0000\n",
      "Epoch 102/120\n",
      "3/3 [==============================] - 1s 174ms/step - loss: 0.3213 - accuracy: 1.0000 - val_loss: 0.3154 - val_accuracy: 1.0000\n",
      "Epoch 103/120\n",
      "3/3 [==============================] - 1s 173ms/step - loss: 0.3174 - accuracy: 1.0000 - val_loss: 0.3152 - val_accuracy: 1.0000\n",
      "Epoch 104/120\n",
      "3/3 [==============================] - 1s 175ms/step - loss: 0.3279 - accuracy: 0.9888 - val_loss: 0.3147 - val_accuracy: 1.0000\n",
      "Epoch 105/120\n",
      "3/3 [==============================] - 1s 178ms/step - loss: 0.3208 - accuracy: 1.0000 - val_loss: 0.3172 - val_accuracy: 1.0000\n",
      "Epoch 106/120\n",
      "3/3 [==============================] - 1s 176ms/step - loss: 0.3194 - accuracy: 1.0000 - val_loss: 0.3151 - val_accuracy: 1.0000\n",
      "Epoch 107/120\n",
      "3/3 [==============================] - 1s 187ms/step - loss: 0.3194 - accuracy: 1.0000 - val_loss: 0.3155 - val_accuracy: 1.0000\n",
      "Epoch 108/120\n",
      "3/3 [==============================] - 1s 203ms/step - loss: 0.3182 - accuracy: 1.0000 - val_loss: 0.3145 - val_accuracy: 1.0000\n",
      "Epoch 109/120\n",
      "3/3 [==============================] - 1s 174ms/step - loss: 0.3180 - accuracy: 1.0000 - val_loss: 0.3146 - val_accuracy: 1.0000\n",
      "Epoch 110/120\n",
      "3/3 [==============================] - 1s 187ms/step - loss: 0.3194 - accuracy: 1.0000 - val_loss: 0.3149 - val_accuracy: 1.0000\n",
      "Epoch 111/120\n",
      "3/3 [==============================] - 1s 180ms/step - loss: 0.3177 - accuracy: 1.0000 - val_loss: 0.3150 - val_accuracy: 1.0000\n",
      "Epoch 112/120\n",
      "3/3 [==============================] - 1s 184ms/step - loss: 0.3173 - accuracy: 1.0000 - val_loss: 0.3149 - val_accuracy: 1.0000\n",
      "Epoch 113/120\n",
      "3/3 [==============================] - 1s 178ms/step - loss: 0.3181 - accuracy: 1.0000 - val_loss: 0.3146 - val_accuracy: 1.0000\n"
     ]
    },
    {
     "name": "stdout",
     "output_type": "stream",
     "text": [
      "Epoch 114/120\n",
      "3/3 [==============================] - 1s 190ms/step - loss: 0.3168 - accuracy: 1.0000 - val_loss: 0.3142 - val_accuracy: 1.0000\n",
      "Epoch 115/120\n",
      "3/3 [==============================] - 1s 193ms/step - loss: 0.3154 - accuracy: 1.0000 - val_loss: 0.3143 - val_accuracy: 1.0000\n",
      "Epoch 116/120\n",
      "3/3 [==============================] - 1s 204ms/step - loss: 0.3182 - accuracy: 1.0000 - val_loss: 0.3147 - val_accuracy: 1.0000\n",
      "Epoch 117/120\n",
      "3/3 [==============================] - 1s 180ms/step - loss: 0.3221 - accuracy: 0.9888 - val_loss: 0.3143 - val_accuracy: 1.0000\n",
      "Epoch 118/120\n",
      "3/3 [==============================] - 1s 199ms/step - loss: 0.3175 - accuracy: 1.0000 - val_loss: 0.3153 - val_accuracy: 1.0000\n",
      "Epoch 119/120\n",
      "3/3 [==============================] - 1s 178ms/step - loss: 0.3195 - accuracy: 1.0000 - val_loss: 0.3158 - val_accuracy: 1.0000\n",
      "Epoch 120/120\n",
      "3/3 [==============================] - 1s 190ms/step - loss: 0.3163 - accuracy: 1.0000 - val_loss: 0.3141 - val_accuracy: 1.0000\n"
     ]
    },
    {
     "data": {
      "text/plain": [
       "<tensorflow.python.keras.callbacks.History at 0x1ce759f52b0>"
      ]
     },
     "execution_count": 9,
     "metadata": {},
     "output_type": "execute_result"
    }
   ],
   "source": [
    "model.fit(\n",
    "    train_ds,\n",
    "    validation_data=val_ds,\n",
    "    epochs=120,\n",
    "    batch_size=32,\n",
    "    verbose=1,\n",
    "    workers=-1,\n",
    "    use_multiprocessing=True,\n",
    "    callbacks=[\n",
    "        TensorBoard(log_dir=\"../logs/\" + strftime(\"%Y%m%d-%H%M%S\", localtime()))\n",
    "    ]\n",
    ")"
   ]
  },
  {
   "cell_type": "code",
   "execution_count": null,
   "metadata": {},
   "outputs": [],
   "source": [
    "tensorboard --logdir ../logs"
   ]
  },
  {
   "cell_type": "code",
   "execution_count": 40,
   "metadata": {
    "ExecuteTime": {
     "end_time": "2021-10-18T06:30:24.175317Z",
     "start_time": "2021-10-18T06:30:23.374302Z"
    }
   },
   "outputs": [
    {
     "name": "stdout",
     "output_type": "stream",
     "text": [
      "INFO:tensorflow:Assets written to: ../models/pic_clf/1\\assets\n"
     ]
    }
   ],
   "source": [
    "save_model(model, \"home/centos/pic_clf/3\")      # save_model(model, \"../models/pic_clf/1\")"
   ]
  },
  {
   "cell_type": "markdown",
   "metadata": {},
   "source": [
    "<h3>部署模型并预测</h3>"
   ]
  },
  {
   "cell_type": "markdown",
   "metadata": {},
   "source": [
    "<h4>部署模型</h4>"
   ]
  },
  {
   "cell_type": "markdown",
   "metadata": {},
   "source": [
    "<h5>安装docker</h5>"
   ]
  },
  {
   "cell_type": "code",
   "execution_count": null,
   "metadata": {},
   "outputs": [],
   "source": [
    "!sudo yum install -y epel-release\n",
    "!sudo yum install https://get.docker.com/rpm/1.7.1/centos-6/RPMS/x86_64/docker-engine-1.7.1-1.el6.x86_64.rpm\n",
    "!docker version\n",
    "!sudo service docker start"
   ]
  },
  {
   "cell_type": "markdown",
   "metadata": {},
   "source": [
    "<h5>拉取镜像</h5>"
   ]
  },
  {
   "cell_type": "code",
   "execution_count": null,
   "metadata": {},
   "outputs": [],
   "source": [
    "!docker pull tensorflow/serving:2.3.0"
   ]
  },
  {
   "cell_type": "markdown",
   "metadata": {},
   "source": [
    "<h5>部署服务</h5>"
   ]
  },
  {
   "cell_type": "code",
   "execution_count": null,
   "metadata": {},
   "outputs": [],
   "source": [
    "!docker run -t \\\n",
    "    -p 8501:8501 \\\n",
    "    -v \"/home/centos/pic_clf:/models/pic_clf\" \\\n",
    "    -e MODEL_NAME=pic_clf \\\n",
    "    tensorflow/serving:2.3.0"
   ]
  },
  {
   "cell_type": "markdown",
   "metadata": {},
   "source": [
    "<h4>测试数据</h4>"
   ]
  },
  {
   "cell_type": "markdown",
   "metadata": {},
   "source": [
    "<h5>读取测试数据</h5>"
   ]
  },
  {
   "cell_type": "code",
   "execution_count": 11,
   "metadata": {
    "ExecuteTime": {
     "end_time": "2021-10-18T14:18:42.700930Z",
     "start_time": "2021-10-18T14:18:42.403879Z"
    }
   },
   "outputs": [
    {
     "name": "stdout",
     "output_type": "stream",
     "text": [
      "Found 63 files belonging to 2 classes.\n"
     ]
    }
   ],
   "source": [
    "x_test, y_test = list(image_dataset_from_directory(test_dir, image_size=(160, 160)))[1]"
   ]
  },
  {
   "cell_type": "code",
   "execution_count": 12,
   "metadata": {
    "ExecuteTime": {
     "end_time": "2021-10-18T14:18:43.700211Z",
     "start_time": "2021-10-18T14:18:43.692242Z"
    },
    "pycharm": {
     "name": "#%%\n"
    }
   },
   "outputs": [],
   "source": [
    "x_test = x_test.numpy()\n",
    "y_test = y_test.numpy()"
   ]
  },
  {
   "cell_type": "markdown",
   "metadata": {},
   "source": [
    "<h5>预测数据</h5>"
   ]
  },
  {
   "cell_type": "code",
   "execution_count": 13,
   "metadata": {
    "ExecuteTime": {
     "end_time": "2021-10-18T14:18:58.337569Z",
     "start_time": "2021-10-18T14:18:51.636841Z"
    }
   },
   "outputs": [],
   "source": [
    "data = json.dumps({\"instances\": x_test.tolist()})\n",
    "headers = {\"content-type\": \"application/json\"}\n",
    "response = requests.post(\n",
    "    url=\"http://81.70.8.71:8501/v1/models/pic_clf:predict\",\n",
    "    data=data,\n",
    "    headers=headers\n",
    ")\n",
    "if response.status_code != 200:\n",
    "    raise ValueError(response.text)"
   ]
  },
  {
   "cell_type": "code",
   "execution_count": 14,
   "metadata": {
    "ExecuteTime": {
     "end_time": "2021-10-18T14:19:03.006712Z",
     "start_time": "2021-10-18T14:19:03.003714Z"
    }
   },
   "outputs": [],
   "source": [
    "y_pred_prob = np.array(json.loads(response.text)[\"predictions\"])"
   ]
  },
  {
   "cell_type": "code",
   "execution_count": 17,
   "metadata": {
    "ExecuteTime": {
     "end_time": "2021-10-18T14:24:28.184795Z",
     "start_time": "2021-10-18T14:24:28.180798Z"
    }
   },
   "outputs": [],
   "source": [
    "y_pred = np.where(y_pred_prob[:, 0] > y_pred_prob[:, 1], 0, 1).ravel()"
   ]
  },
  {
   "cell_type": "code",
   "execution_count": 18,
   "metadata": {
    "ExecuteTime": {
     "end_time": "2021-10-18T14:24:29.986421Z",
     "start_time": "2021-10-18T14:24:29.978425Z"
    }
   },
   "outputs": [
    {
     "name": "stdout",
     "output_type": "stream",
     "text": [
      "              precision    recall  f1-score   support\n",
      "\n",
      "           0       1.00      1.00      1.00        10\n",
      "           1       1.00      1.00      1.00        21\n",
      "\n",
      "    accuracy                           1.00        31\n",
      "   macro avg       1.00      1.00      1.00        31\n",
      "weighted avg       1.00      1.00      1.00        31\n",
      "\n"
     ]
    }
   ],
   "source": [
    "print(classification_report(y_test, y_pred))"
   ]
  },
  {
   "cell_type": "code",
   "execution_count": null,
   "metadata": {},
   "outputs": [],
   "source": []
  }
 ],
 "metadata": {
  "kernelspec": {
   "display_name": "Python 3",
   "language": "python",
   "name": "python3"
  },
  "language_info": {
   "codemirror_mode": {
    "name": "ipython",
    "version": 3
   },
   "file_extension": ".py",
   "mimetype": "text/x-python",
   "name": "python",
   "nbconvert_exporter": "python",
   "pygments_lexer": "ipython3",
   "version": "3.7.3"
  },
  "toc": {
   "base_numbering": 1,
   "nav_menu": {},
   "number_sections": true,
   "sideBar": true,
   "skip_h1_title": false,
   "title_cell": "Table of Contents",
   "title_sidebar": "Contents",
   "toc_cell": false,
   "toc_position": {},
   "toc_section_display": true,
   "toc_window_display": true
  },
  "varInspector": {
   "cols": {
    "lenName": 16,
    "lenType": 16,
    "lenVar": 40
   },
   "kernels_config": {
    "python": {
     "delete_cmd_postfix": "",
     "delete_cmd_prefix": "del ",
     "library": "var_list.py",
     "varRefreshCmd": "print(var_dic_list())"
    },
    "r": {
     "delete_cmd_postfix": ") ",
     "delete_cmd_prefix": "rm(",
     "library": "var_list.r",
     "varRefreshCmd": "cat(var_dic_list()) "
    }
   },
   "types_to_exclude": [
    "module",
    "function",
    "builtin_function_or_method",
    "instance",
    "_Feature"
   ],
   "window_display": true
  }
 },
 "nbformat": 4,
 "nbformat_minor": 4
}
